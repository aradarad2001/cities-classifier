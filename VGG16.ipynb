{
  "nbformat": 4,
  "nbformat_minor": 0,
  "metadata": {
    "colab": {
      "name": "VGG16",
      "provenance": [],
      "collapsed_sections": [],
      "toc_visible": true,
      "machine_shape": "hm",
      "include_colab_link": true
    },
    "kernelspec": {
      "name": "python3",
      "display_name": "Python 3"
    },
    "accelerator": "GPU"
  },
  "cells": [
    {
      "cell_type": "markdown",
      "metadata": {
        "id": "view-in-github",
        "colab_type": "text"
      },
      "source": [
        "<a href=\"https://colab.research.google.com/github/dormeir999/cities-classifier/blob/master/VGG16.ipynb\" target=\"_parent\"><img src=\"https://colab.research.google.com/assets/colab-badge.svg\" alt=\"Open In Colab\"/></a>"
      ]
    },
    {
      "cell_type": "markdown",
      "metadata": {
        "id": "bsHRUi9tn_Cp"
      },
      "source": [
        "# Imports & setup"
      ]
    },
    {
      "cell_type": "code",
      "metadata": {
        "id": "lO10Geax7UW3"
      },
      "source": [
        "import numpy as np\n",
        "import pandas as pd \n",
        "import matplotlib.pyplot as plt\n",
        "from pathlib import Path\n",
        "import requests\n",
        "import zipfile\n",
        "import glob\n",
        "import os\n",
        "from google.colab import drive\n",
        "import cv2\n",
        "import tensorflow as tf\n",
        "from tensorflow.keras.preprocessing.image import ImageDataGenerator\n",
        "from tensorflow.keras.models import Sequential\n",
        "from tensorflow.keras.layers import Conv2D, MaxPooling2D\n",
        "from tensorflow.keras.layers import Activation, Flatten, Dense, BatchNormalization, Dropout\n",
        "from tensorflow.keras.optimizers import SGD\n",
        "from tensorflow.keras import backend as K\n",
        "from tensorflow.keras.callbacks import ModelCheckpoint\n",
        "import os\n",
        "import tensorflow as tf\n",
        "from pathlib import Path\n",
        "import glob\n",
        "import numpy as np\n",
        "AUTOTUNE = tf.data.experimental.AUTOTUNE"
      ],
      "execution_count": null,
      "outputs": []
    },
    {
      "cell_type": "code",
      "metadata": {
        "id": "YhDe56Yg7iFo",
        "outputId": "6561f20d-7438-486c-a5a0-b0f92b1aadb0",
        "colab": {
          "base_uri": "https://localhost:8080/",
          "height": 125
        }
      },
      "source": [
        "drive.mount('/content/gdrive')"
      ],
      "execution_count": null,
      "outputs": [
        {
          "output_type": "stream",
          "text": [
            "Go to this URL in a browser: https://accounts.google.com/o/oauth2/auth?client_id=947318989803-6bn6qk8qdgf4n4g3pfee6491hc0brc4i.apps.googleusercontent.com&redirect_uri=urn%3aietf%3awg%3aoauth%3a2.0%3aoob&response_type=code&scope=email%20https%3a%2f%2fwww.googleapis.com%2fauth%2fdocs.test%20https%3a%2f%2fwww.googleapis.com%2fauth%2fdrive%20https%3a%2f%2fwww.googleapis.com%2fauth%2fdrive.photos.readonly%20https%3a%2f%2fwww.googleapis.com%2fauth%2fpeopleapi.readonly\n",
            "\n",
            "Enter your authorization code:\n",
            "··········\n",
            "Mounted at /content/gdrive\n"
          ],
          "name": "stdout"
        }
      ]
    },
    {
      "cell_type": "code",
      "metadata": {
        "id": "GNgXZnwr7lUz",
        "outputId": "86e4d869-b48b-4e2f-9ecf-86bbc4421a86",
        "colab": {
          "base_uri": "https://localhost:8080/",
          "height": 158
        }
      },
      "source": [
        "path_model = '/content/gdrive/My Drive/adidas/02-model'\n",
        "path_data =  '/content/gdrive/My Drive/adidas/01-data'\n",
        "os.listdir(path_model) # test"
      ],
      "execution_count": null,
      "outputs": [
        {
          "output_type": "execute_result",
          "data": {
            "text/plain": [
              "['.ipynb_checkpoints',\n",
              " 'weights',\n",
              " 'logs',\n",
              " 'model',\n",
              " 'LeNet-Model',\n",
              " 'tf image classification.ipynb',\n",
              " 'Daniel Research Log.gdoc',\n",
              " 'GAN']"
            ]
          },
          "metadata": {
            "tags": []
          },
          "execution_count": 4
        }
      ]
    },
    {
      "cell_type": "code",
      "metadata": {
        "id": "zj-egQsq7nmP"
      },
      "source": [
        "# colab output:\n",
        "output_folder_path = '.'\n",
        "output_folder_path = Path(output_folder_path)"
      ],
      "execution_count": null,
      "outputs": []
    },
    {
      "cell_type": "markdown",
      "metadata": {
        "id": "ioKjZ8iR7xx6"
      },
      "source": [
        "# Load Data\n"
      ]
    },
    {
      "cell_type": "code",
      "metadata": {
        "id": "Ye3ipmY9PI7C"
      },
      "source": [
        "# get list of links from aws\n",
        "map_links = pd.read_csv(\n",
        "    'https://ww-research.s3-us-west-2.amazonaws.com/Arad/adidas/mapillary_links.csv'\n",
        "    ,header=None).iloc[:,0].to_list()"
      ],
      "execution_count": null,
      "outputs": []
    },
    {
      "cell_type": "code",
      "metadata": {
        "id": "YJS8U6iS70JO"
      },
      "source": [
        "def download_url(url, save_path=False, chunk_size=128):\n",
        "    \"downloads zip files to the folder that the notebook / python file is saved\"\n",
        "    if not save_path:\n",
        "        save_path = url.split('/')[-1]\n",
        "\n",
        "    with requests.get(url, stream=True) as r:\n",
        "        with open(save_path, 'wb') as fd:\n",
        "            for chunk in r.iter_content(chunk_size=chunk_size):\n",
        "                fd.write(chunk)\n",
        "    print(f\"file {save_path} succesfuly downloaded\")\n",
        "\n",
        "    \n",
        "def unzip_to_structure(zipfile_path, output_root_folder):\n",
        "    \"\"\"unzips files to specified output root folder with structure: \n",
        "        <output_root_folder> / <set_type> / <city> / <img_key>.jpg\"\"\"\n",
        "    output_root_folder = Path(output_root_folder)\n",
        "    file_parts = str(Path(zipfile_path).stem).split('_')\n",
        "    city = file_parts[0]\n",
        "    set_type = file_parts[1]\n",
        "    for s in ['train','test','val']:   \n",
        "      with zipfile.ZipFile(zipfile_path, 'r') as zip_ref:\n",
        "        if set_type == s:\n",
        "          zip_ref.extractall(output_root_folder / s )\n",
        "    print(f\"images from '{zipfile_path}' succesfuly unziped to '{output_root_folder / set_type / city}'\")\n",
        "\n",
        "\n",
        "def get_images(cities,output_path=output_folder_path,download_test=False):\n",
        "  \"\"\"gets all images for defined cities\n",
        "  param:: cities, array of cities\n",
        "  param:: output_path \"\"\"\n",
        "  linkz = []\n",
        "  if not download_test:\n",
        "    links = [l for l in map_links if 'test' not in l]\n",
        "  else:\n",
        "    links = map_links\n",
        "  for city in cities:\n",
        "    for link in links:\n",
        "      if city in link:\n",
        "        linkz.append(link) \n",
        "  # download files to current directory\n",
        "  for link in linkz:\n",
        "      download_url(link)\n",
        "  # unzip images to destination with format: \n",
        "  # <output_root_folder> / <set_type> / <city> / <img_key>.jpg\n",
        "  for link in linkz:\n",
        "      filename = Path(link).name\n",
        "      unzip_to_structure(filename,output_path)  "
      ],
      "execution_count": null,
      "outputs": []
    },
    {
      "cell_type": "code",
      "metadata": {
        "id": "-70cyn7zCeyu",
        "outputId": "9ded6dff-4415-49ac-809d-e5c36c4ba358",
        "colab": {
          "base_uri": "https://localhost:8080/",
          "height": 336
        }
      },
      "source": [
        "# get data to current working dir (for changing dir got to top of the notebook):\n",
        "\n",
        "# available cities:\n",
        "my_cities = ['saopaulo','moscow','paris','manila','ottawa','austin','bangkok',\n",
        " 'sf','phoenix','melbourne','tokyo','goa','toronto','berlin', 'budapest',\n",
        " 'cph','helsinki','boston','amsterdam']\n",
        "\n",
        "# city selection:\n",
        "my_cities = ['saopaulo','paris','goa']\n",
        "\n",
        "# download images from aws:\n",
        "get_images(my_cities,download_test=True) "
      ],
      "execution_count": null,
      "outputs": [
        {
          "output_type": "stream",
          "text": [
            "file saopaulo_train.zip succesfuly downloaded\n",
            "file saopaulo_val.zip succesfuly downloaded\n",
            "file saopaulo_test.zip succesfuly downloaded\n",
            "file paris_train.zip succesfuly downloaded\n",
            "file paris_val.zip succesfuly downloaded\n",
            "file paris_test.zip succesfuly downloaded\n",
            "file goa_train.zip succesfuly downloaded\n",
            "file goa_val.zip succesfuly downloaded\n",
            "file goa_test.zip succesfuly downloaded\n",
            "images from 'saopaulo_train.zip' succesfuly unziped to 'train/saopaulo'\n",
            "images from 'saopaulo_val.zip' succesfuly unziped to 'val/saopaulo'\n",
            "images from 'saopaulo_test.zip' succesfuly unziped to 'test/saopaulo'\n",
            "images from 'paris_train.zip' succesfuly unziped to 'train/paris'\n",
            "images from 'paris_val.zip' succesfuly unziped to 'val/paris'\n",
            "images from 'paris_test.zip' succesfuly unziped to 'test/paris'\n",
            "images from 'goa_train.zip' succesfuly unziped to 'train/goa'\n",
            "images from 'goa_val.zip' succesfuly unziped to 'val/goa'\n",
            "images from 'goa_test.zip' succesfuly unziped to 'test/goa'\n"
          ],
          "name": "stdout"
        }
      ]
    },
    {
      "cell_type": "code",
      "metadata": {
        "id": "mcFqoO05vITp",
        "outputId": "3be1a23b-3e7e-4fcc-9b54-80b0f99530b9",
        "colab": {
          "base_uri": "https://localhost:8080/",
          "height": 34
        }
      },
      "source": [
        "def get_data_to_numpy(file_list):\n",
        "    X = []\n",
        "    for filename in file_list :\n",
        "        img = img_to_array(load_img(filename, target_size = (150,150)))\n",
        "        X.append(img)\n",
        "    X = np.array(X).astype('float32')\n",
        "    # X = (X - X.mean()) / X.mean()\n",
        "    X = X / 255\n",
        "    return X\n",
        "\n",
        "import glob\n",
        "from tensorflow.keras.preprocessing.image import array_to_img, img_to_array, load_img\n",
        "\n",
        "train_filelist = glob.glob('./train/*/*')\n",
        "val_filelist = glob.glob('./val/*/*')\n",
        "test_filelist = glob.glob('./train/*/*')\n",
        "len(train_filelist), len(val_filelist), len(test_filelist)\n",
        "\n",
        "#X_train = get_data(train_filelist)\n",
        "#X_val = get_data(val_filelist)\n",
        "#X_test = get_data(test_filelist)"
      ],
      "execution_count": null,
      "outputs": [
        {
          "output_type": "execute_result",
          "data": {
            "text/plain": [
              "(16966, 6516, 16966)"
            ]
          },
          "metadata": {
            "tags": []
          },
          "execution_count": 9
        }
      ]
    },
    {
      "cell_type": "markdown",
      "metadata": {
        "id": "N6PmqwnJ8j22"
      },
      "source": [
        "# Image Preprocessing"
      ]
    },
    {
      "cell_type": "code",
      "metadata": {
        "id": "3l5EaSnFGayx"
      },
      "source": [
        "import os\n",
        "import tensorflow as tf\n",
        "from pathlib import Path\n",
        "import glob\n",
        "import numpy as np\n",
        "AUTOTUNE = tf.data.experimental.AUTOTUNE"
      ],
      "execution_count": null,
      "outputs": []
    },
    {
      "cell_type": "markdown",
      "metadata": {
        "id": "SBbHwtacvvCC"
      },
      "source": [
        "## Remove Outliers\n",
        "Some helpr functions:"
      ]
    },
    {
      "cell_type": "code",
      "metadata": {
        "id": "bYnMr_HTvyLd",
        "outputId": "a1627abe-f81d-4242-9b9c-08403f64c277",
        "colab": {
          "base_uri": "https://localhost:8080/",
          "height": 34
        }
      },
      "source": [
        "# I changed some layers here so that the final output will have the same output size as our images - 150x150x3\n",
        "\n",
        "from keras.layers import Input, Dense, Conv2D, MaxPooling2D, UpSampling2D\n",
        "from keras.models import Model\n",
        "from keras import backend as K\n",
        "\n",
        "def decode_images_using_existing_model_weights(dataset,weights_path = '/weights/Auto-Encoders.ckpt'):\n",
        "  \"\"\"Recives a numpy dataset, returns a decoded dataset using the pre-trained \n",
        "  auto-enocder weights\"\"\"\n",
        "  # Create the CV for decoding\n",
        "  input_img = Input(shape=(150, 150, 3))  # adapt this if using `channels_first` image data format\n",
        "  x = Conv2D(16, (3, 3), activation='relu', padding='same')(input_img)\n",
        "  x = MaxPooling2D((2, 2), padding='same')(x)\n",
        "  x = Conv2D(8, (3, 3), activation='relu', padding='same')(x)\n",
        "  #x = MaxPooling2D((2, 2), padding='same')(x)\n",
        "  x = Conv2D(8, (3, 3), activation='relu', padding='same')(x)\n",
        "  encoded = MaxPooling2D((2, 2), padding='same')(x)\n",
        "  # at this point the representation is (4, 4, 8) i.e. 128-dimensional\n",
        "  x = Conv2D(8, (3, 3), activation='relu', padding='same')(encoded)\n",
        "  x = UpSampling2D((2, 2))(x)\n",
        "  x = Conv2D(8, (3, 3), activation='relu', padding='same')(x)\n",
        "  x = UpSampling2D((2, 2))(x)\n",
        "  x = Conv2D(16, (3, 3), activation='relu')(x)\n",
        "  #x = UpSampling2D((2, 2))(x)\n",
        "  decoded = Conv2D(3, (3, 3), activation='sigmoid', padding='same')(x)\n",
        "  autoencoder = Model(input_img, decoded)\n",
        "  autoencoder.compile(optimizer='adadelta', loss='binary_crossentropy')#, metrics=['accuracy'])\n",
        "  autoencoder.summary()\n",
        "\n",
        "  # load weights\n",
        "  checkpoint_filepath = path_model + weights_path\n",
        "  autoencoder.load_weights(checkpoint_filepath)\n",
        "  return autoencoder.predict(dataset)\n",
        "\n",
        "def clean_dataset_from_outlier(dataset, decoded_dataset, outlier_threshold=0.99):\n",
        "  \"\"\"Receives the origionl and the autoencoded numpy dataset, return cleaned dataset\n",
        "  without (default) 1% of images which are least similair to their decoded\n",
        "  image, and the indices for the outliers.\"\"\"\n",
        "  squred_error = np.power(X_train - decoded_dataset, 2)\n",
        "  channel_ax = 3\n",
        "  width_ax = 1\n",
        "  height_ax = 1\n",
        "  mse = np.mean(np.mean(squred_error,axis=(channel_ax,width_ax)),axis=height_ax)\n",
        "  mse_anomally_threshold = np.quantile(mse, outlier_threshold)\n",
        "  outliers_idx = np.where(mse > mse_anomally_threshold)\n",
        "  inliners_idx = np.where(mse <= mse_anomally_threshold)\n",
        "  return dataset[inliners_idx], outliers_idx[0]\n",
        "\n",
        "def show_origional_and_decoded(origional,decoded, n=5, show_decoded=True):\n",
        "  'Show random n images and their decoded images'\n",
        "  n+=1\n",
        "  images_index = np.random.choice(len(origional),n)\n",
        "  plt.figure(figsize=(20, 5))\n",
        "  for i in range(1,n):\n",
        "      ax = plt.subplot(1, n, i)\n",
        "      plt.imshow(origional[images_index[i]])\n",
        "      #plt.gray()\n",
        "      ax.get_xaxis().set_visible(False)\n",
        "      ax.get_yaxis().set_visible(False)\n",
        "  plt.show()\n",
        "\n",
        "  plt.figure(figsize=(20, 5))\n",
        "\n",
        "  if show_decoded:\n",
        "    for i in range(1,n):\n",
        "        ax = plt.subplot(1, n, i)\n",
        "        plt.imshow(decoded[images_index[i]])\n",
        "        #plt.gray()\n",
        "        ax.get_xaxis().set_visible(False)\n",
        "        ax.get_yaxis().set_visible(False)\n",
        "    plt.show()"
      ],
      "execution_count": null,
      "outputs": [
        {
          "output_type": "stream",
          "text": [
            "Using TensorFlow backend.\n"
          ],
          "name": "stderr"
        }
      ]
    },
    {
      "cell_type": "markdown",
      "metadata": {
        "id": "QoknyEzrwyy-"
      },
      "source": [
        "* Uncomment the last line for cleaning a numpy dataset of images from outliers (using a threshold of percentage of outliers images).\n",
        "* Uncomment the two lines before for getting the decoded datasets - more gerneralized form of the photos, which might remove outliers pixels."
      ]
    },
    {
      "cell_type": "code",
      "metadata": {
        "id": "mdObOp69we5F"
      },
      "source": [
        "def remove_outliers(numpy_dataset, outlier_threshold=0.99):\n",
        "  'Recievs a numpy dataset, return the cleand dataset and the indices of outliers'\n",
        "  decoded_imgs = decode_images_using_existing_model_weights(numpy_dataset)\n",
        "  cleaned_dataset, outliers_idx = clean_dataset_from_outlier(numpy_dataset, decoded_imgs,outlier_threshold=0.98)\n",
        "  return cleaned_dataset, outliers_idx\n",
        "\n",
        "#decoded_imgs = decode_images_using_existing_model_weights(X_train)\n",
        "#show_origional_and_decoded(X_train,decoded_imgs, n=5)\n",
        "\n",
        "#X_train_cleaned, outlier_idx = remove_outliers(X_train, outlier_threshold=0.99)"
      ],
      "execution_count": null,
      "outputs": []
    },
    {
      "cell_type": "markdown",
      "metadata": {
        "id": "AudqqPA1mmg-"
      },
      "source": [
        "## Set image and batch size"
      ]
    },
    {
      "cell_type": "code",
      "metadata": {
        "id": "b2UaWCWGHXvy"
      },
      "source": [
        "IMG_WIDTH = 224\n",
        "IMG_HEIGHT = 224\n",
        "BATCH_SIZE = 1024"
      ],
      "execution_count": null,
      "outputs": []
    },
    {
      "cell_type": "code",
      "metadata": {
        "id": "2lRUYXYXGbqh"
      },
      "source": [
        "train_dir = Path(\"./train\")\n",
        "val_dir = Path(\"./val\")\n",
        "test_dir = Path(\"./test\")"
      ],
      "execution_count": null,
      "outputs": []
    },
    {
      "cell_type": "code",
      "metadata": {
        "id": "IVSX8F3DGb0G",
        "outputId": "12789459-a821-4a06-c2b0-13395844a058",
        "colab": {
          "base_uri": "https://localhost:8080/",
          "height": 34
        }
      },
      "source": [
        "CLASS_NAMES = np.array([item.name for item in train_dir.glob('*')])\n",
        "CLASS_NAMES"
      ],
      "execution_count": null,
      "outputs": [
        {
          "output_type": "execute_result",
          "data": {
            "text/plain": [
              "array(['paris', 'goa', 'saopaulo'], dtype='<U8')"
            ]
          },
          "metadata": {
            "tags": []
          },
          "execution_count": 18
        }
      ]
    },
    {
      "cell_type": "code",
      "metadata": {
        "id": "PgjjSbgtGb2p",
        "outputId": "60917575-2c64-4b97-dd3f-d03728969e4c",
        "colab": {
          "base_uri": "https://localhost:8080/",
          "height": 34
        }
      },
      "source": [
        "train_image_count = len(list(train_dir.glob('*/*.jpg')))\n",
        "val_image_count = len(list(val_dir.glob('*/*.jpg')))\n",
        "test_image_count = len(list(test_dir.glob('*/*.jpg')))\n",
        "train_image_count, val_image_count, test_image_count"
      ],
      "execution_count": null,
      "outputs": [
        {
          "output_type": "execute_result",
          "data": {
            "text/plain": [
              "(16966, 6516, 6518)"
            ]
          },
          "metadata": {
            "tags": []
          },
          "execution_count": 19
        }
      ]
    },
    {
      "cell_type": "markdown",
      "metadata": {
        "id": "qURaZHZ9ngIH"
      },
      "source": [
        "## Cached processing \\ tf.data.Dataset"
      ]
    },
    {
      "cell_type": "code",
      "metadata": {
        "id": "FuVDcCppGjOU",
        "outputId": "fe871784-4bb2-4428-ce21-6589bb793716",
        "colab": {
          "base_uri": "https://localhost:8080/",
          "height": 34
        }
      },
      "source": [
        "list_train = tf.data.Dataset.list_files(str(train_dir/\"*/*\"))\n",
        "list_val = tf.data.Dataset.list_files(str(val_dir/\"*/*\"))\n",
        "list_test = tf.data.Dataset.list_files(str(test_dir/\"*/*\"),shuffle=False)\n"
      ],
      "execution_count": null,
      "outputs": [
        {
          "output_type": "execute_result",
          "data": {
            "text/plain": [
              "<TensorSliceDataset shapes: (), types: tf.string>"
            ]
          },
          "metadata": {
            "tags": []
          },
          "execution_count": 21
        }
      ]
    },
    {
      "cell_type": "code",
      "metadata": {
        "id": "0xuwBSznnQt2"
      },
      "source": [
        "def get_label(file_path):\n",
        "  # convert the path to a list of path components\n",
        "  parts = tf.strings.split(file_path, os.path.sep)\n",
        "  # The second to last is the class-directory\n",
        "  return parts[-2] == CLASS_NAMES\n",
        "\n",
        "def decode_img(img):\n",
        "  # convert the compressed string to a 3D uint8 tensor\n",
        "  img = tf.image.decode_jpeg(img, channels=3)\n",
        "  # Use `convert_image_dtype` to convert to floats in the [0,1] range.\n",
        "  img = tf.image.convert_image_dtype(img, tf.float32)\n",
        "  # resize the image to the desired size.\n",
        "  return tf.image.resize(img, [IMG_WIDTH, IMG_HEIGHT])\n",
        "\n",
        "def process_path(file_path):\n",
        "  label = get_label(file_path)\n",
        "  # load the raw data from the file as a string\n",
        "  img = tf.io.read_file(file_path)\n",
        "  img = decode_img(img)\n",
        "  return img, label"
      ],
      "execution_count": null,
      "outputs": []
    },
    {
      "cell_type": "code",
      "metadata": {
        "id": "ow0baCsHGjSc"
      },
      "source": [
        "def prepare_for_training(ds, cache=True, shuffle_buffer_size=1000):\n",
        "  # This is a small dataset, only load it once, and keep it in memory.\n",
        "  # use `.cache(filename)` to cache preprocessing work for datasets that don't\n",
        "  # fit in memory.\n",
        "  if cache:\n",
        "    if isinstance(cache, str):\n",
        "      ds = ds.cache(cache)\n",
        "    else:\n",
        "      ds = ds.cache()\n",
        "\n",
        "  ds = ds.shuffle(buffer_size=shuffle_buffer_size)\n",
        "\n",
        "  # Repeat forever\n",
        "  ds = ds.repeat()\n",
        "\n",
        "  ds = ds.batch(BATCH_SIZE)\n",
        "\n",
        "  # `prefetch` lets the dataset fetch batches in the background while the model\n",
        "  # is training.\n",
        "  ds = ds.prefetch(buffer_size=AUTOTUNE)\n",
        "\n",
        "  return ds"
      ],
      "execution_count": null,
      "outputs": []
    },
    {
      "cell_type": "code",
      "metadata": {
        "id": "vWgYOwjDGjQV"
      },
      "source": [
        "# Use Dataset.map to create a dataset of image, label pairs:\n",
        "# Set `num_parallel_calls` so multiple images are loaded/processed in parallel.\n",
        "labeled_train = list_train.map(process_path, num_parallel_calls=AUTOTUNE)\n",
        "labeled_val = list_val.map(process_path, num_parallel_calls=AUTOTUNE)\n",
        "labeled_test = list_test.map(process_path, num_parallel_calls=AUTOTUNE)\n",
        "\n",
        "train_dataset = prepare_for_training(labeled_train)\n",
        "val_dataset = prepare_for_training(labeled_val)\n",
        "test_dataset = prepare_for_training(labeled_test)"
      ],
      "execution_count": null,
      "outputs": []
    },
    {
      "cell_type": "code",
      "metadata": {
        "id": "Kc3UZoLSJuDj",
        "outputId": "65b45d1e-8f94-4108-e1b6-3090eff90f0f",
        "colab": {
          "base_uri": "https://localhost:8080/",
          "height": 34
        }
      },
      "source": [
        "train_dataset"
      ],
      "execution_count": null,
      "outputs": [
        {
          "output_type": "execute_result",
          "data": {
            "text/plain": [
              "<PrefetchDataset shapes: ((None, 224, 224, 3), (None, 3)), types: (tf.float32, tf.bool)>"
            ]
          },
          "metadata": {
            "tags": []
          },
          "execution_count": 30
        }
      ]
    },
    {
      "cell_type": "markdown",
      "metadata": {
        "id": "nZOSE5pZV6Yz"
      },
      "source": [
        "## Augmentation attempt"
      ]
    },
    {
      "cell_type": "code",
      "metadata": {
        "id": "InXbSCUfV4GB"
      },
      "source": [
        "def flip(img,lbl):\n",
        "\n",
        "  img = tf.image.random_flip_left_right(img)\n",
        "  img = tf.image.random_flip_up_down(img)\n",
        "  choice = tf.random.uniform(shape=[], minval=0., maxval=1., dtype=tf.float32)\n",
        "  return img,lbl\n",
        "\n",
        "\n",
        "def color(img,lbl):\n",
        "\n",
        "    img = tf.image.random_hue(img, 0.08)\n",
        "    img = tf.image.random_saturation(img, 0.6, 1.6)\n",
        "    img = tf.image.random_brightness(img, 0.05)\n",
        "    img = tf.image.random_contrast(img, 0.7, 1.3)\n",
        "    choice = tf.random.uniform(shape=[], minval=0., maxval=1., dtype=tf.float32)\n",
        "    return img,lbl\n",
        "\n",
        "\n",
        "def rotate(img,lbl):\n",
        "  img = tf.image.rot90(img, tf.random.uniform(shape=[], minval=0, maxval=4, dtype=tf.int32))\n",
        "  choice = tf.random.uniform(shape=[], minval=0., maxval=1., dtype=tf.float32)\n",
        "  return img ,lbl\n",
        "\n",
        "\n",
        "def zoom(img,lbl):\n",
        "\n",
        "    # Generate 20 crop settings, ranging from a 1% to 20% crop.\n",
        "    scales = list(np.arange(0.8, 1.0, 0.01))\n",
        "    boxes = np.zeros((len(scales), 4))\n",
        "\n",
        "    for i, scale in enumerate(scales):\n",
        "        x1 = y1 = 0.5 - (0.5 * scale)\n",
        "        x2 = y2 = 0.5 + (0.5 * scale)\n",
        "        boxes[i] = [x1, y1, x2, y2]\n",
        "\n",
        "    def random_crop(img):\n",
        "        # Create different crops for an image\n",
        "        crops = tf.image.crop_and_resize([img], boxes=boxes, box_indices=np.zeros(len(scales)), crop_size=(32, 32))\n",
        "        # Return a random crop\n",
        "        return crops[tf.random.uniform(shape=[], minval=0, maxval=len(scales), dtype=tf.int32)]\n",
        "\n",
        "    choice = tf.random.uniform(shape=[], minval=0., maxval=1., dtype=tf.float32)\n",
        "\n",
        "    # Only apply cropping 50% of the time\n",
        "    return tf.cond(choice < .25, lambda: img, lambda: random_crop(img)),lbl\n",
        "\n",
        "\n",
        "def clip(img,lbl):\n",
        "  img = tf.clip_by_value(img, 0, 1)\n",
        "  return img,lbl"
      ],
      "execution_count": null,
      "outputs": []
    },
    {
      "cell_type": "code",
      "metadata": {
        "id": "H8hT20eWV9qf"
      },
      "source": [
        "# augmentations = [flip, color, zoom, rotate]\n",
        "\n",
        "# # Add the augmentations to the dataset\n",
        "# for f in augmentations:\n",
        "#     augmented_train = labeled_train.map(f, num_parallel_calls=AUTOTUNE)\n",
        "\n",
        "# # Make sure that the values are still in [0, 1]\n",
        "# augmented_train = augmented_train.map(clip, num_parallel_calls=AUTOTUNE)\n",
        "\n",
        "# train_dataset = prepare_for_training(augmented_train)"
      ],
      "execution_count": null,
      "outputs": []
    },
    {
      "cell_type": "markdown",
      "metadata": {
        "id": "lkcNkqdBjj_I"
      },
      "source": [
        "# Build, complie & train"
      ]
    },
    {
      "cell_type": "markdown",
      "metadata": {
        "id": "_I9c7mNNkt24"
      },
      "source": [
        "## Initialize VGG16"
      ]
    },
    {
      "cell_type": "code",
      "metadata": {
        "id": "nhpHt6yHCzR6",
        "outputId": "73098c68-d6b9-45b3-fa5e-8d21a54fe32c",
        "colab": {
          "base_uri": "https://localhost:8080/",
          "height": 52
        }
      },
      "source": [
        "# get train and test data:\n",
        "trdata = ImageDataGenerator()\n",
        "traindata = trdata.flow_from_directory(directory=\"train\",target_size=(224,224))\n",
        "tsdata = ImageDataGenerator()\n",
        "testdata = tsdata.flow_from_directory(directory=\"test\", target_size=(224,224))\n"
      ],
      "execution_count": null,
      "outputs": [
        {
          "output_type": "stream",
          "text": [
            "Found 16966 images belonging to 3 classes.\n",
            "Found 6518 images belonging to 3 classes.\n"
          ],
          "name": "stdout"
        }
      ]
    },
    {
      "cell_type": "code",
      "metadata": {
        "id": "uXZuv5BTdPAF",
        "outputId": "4f772299-521f-4e2e-be3b-c4f9277d6251",
        "colab": {
          "base_uri": "https://localhost:8080/",
          "height": 568
        }
      },
      "source": [
        "plt.imshow(testdata[1][0])"
      ],
      "execution_count": null,
      "outputs": [
        {
          "output_type": "error",
          "ename": "TypeError",
          "evalue": "ignored",
          "traceback": [
            "\u001b[0;31m---------------------------------------------------------------------------\u001b[0m",
            "\u001b[0;31mTypeError\u001b[0m                                 Traceback (most recent call last)",
            "\u001b[0;32m<ipython-input-46-b052cb7c1116>\u001b[0m in \u001b[0;36m<module>\u001b[0;34m()\u001b[0m\n\u001b[0;32m----> 1\u001b[0;31m \u001b[0mplt\u001b[0m\u001b[0;34m.\u001b[0m\u001b[0mimshow\u001b[0m\u001b[0;34m(\u001b[0m\u001b[0mtestdata\u001b[0m\u001b[0;34m[\u001b[0m\u001b[0;36m1\u001b[0m\u001b[0;34m]\u001b[0m\u001b[0;34m[\u001b[0m\u001b[0;36m0\u001b[0m\u001b[0;34m]\u001b[0m\u001b[0;34m)\u001b[0m\u001b[0;34m\u001b[0m\u001b[0;34m\u001b[0m\u001b[0m\n\u001b[0m",
            "\u001b[0;32m/usr/local/lib/python3.6/dist-packages/matplotlib/pyplot.py\u001b[0m in \u001b[0;36mimshow\u001b[0;34m(X, cmap, norm, aspect, interpolation, alpha, vmin, vmax, origin, extent, shape, filternorm, filterrad, imlim, resample, url, data, **kwargs)\u001b[0m\n\u001b[1;32m   2649\u001b[0m         \u001b[0mfilternorm\u001b[0m\u001b[0;34m=\u001b[0m\u001b[0mfilternorm\u001b[0m\u001b[0;34m,\u001b[0m \u001b[0mfilterrad\u001b[0m\u001b[0;34m=\u001b[0m\u001b[0mfilterrad\u001b[0m\u001b[0;34m,\u001b[0m \u001b[0mimlim\u001b[0m\u001b[0;34m=\u001b[0m\u001b[0mimlim\u001b[0m\u001b[0;34m,\u001b[0m\u001b[0;34m\u001b[0m\u001b[0;34m\u001b[0m\u001b[0m\n\u001b[1;32m   2650\u001b[0m         resample=resample, url=url, **({\"data\": data} if data is not\n\u001b[0;32m-> 2651\u001b[0;31m         None else {}), **kwargs)\n\u001b[0m\u001b[1;32m   2652\u001b[0m     \u001b[0msci\u001b[0m\u001b[0;34m(\u001b[0m\u001b[0m__ret\u001b[0m\u001b[0;34m)\u001b[0m\u001b[0;34m\u001b[0m\u001b[0;34m\u001b[0m\u001b[0m\n\u001b[1;32m   2653\u001b[0m     \u001b[0;32mreturn\u001b[0m \u001b[0m__ret\u001b[0m\u001b[0;34m\u001b[0m\u001b[0;34m\u001b[0m\u001b[0m\n",
            "\u001b[0;32m/usr/local/lib/python3.6/dist-packages/matplotlib/__init__.py\u001b[0m in \u001b[0;36minner\u001b[0;34m(ax, data, *args, **kwargs)\u001b[0m\n\u001b[1;32m   1563\u001b[0m     \u001b[0;32mdef\u001b[0m \u001b[0minner\u001b[0m\u001b[0;34m(\u001b[0m\u001b[0max\u001b[0m\u001b[0;34m,\u001b[0m \u001b[0;34m*\u001b[0m\u001b[0margs\u001b[0m\u001b[0;34m,\u001b[0m \u001b[0mdata\u001b[0m\u001b[0;34m=\u001b[0m\u001b[0;32mNone\u001b[0m\u001b[0;34m,\u001b[0m \u001b[0;34m**\u001b[0m\u001b[0mkwargs\u001b[0m\u001b[0;34m)\u001b[0m\u001b[0;34m:\u001b[0m\u001b[0;34m\u001b[0m\u001b[0;34m\u001b[0m\u001b[0m\n\u001b[1;32m   1564\u001b[0m         \u001b[0;32mif\u001b[0m \u001b[0mdata\u001b[0m \u001b[0;32mis\u001b[0m \u001b[0;32mNone\u001b[0m\u001b[0;34m:\u001b[0m\u001b[0;34m\u001b[0m\u001b[0;34m\u001b[0m\u001b[0m\n\u001b[0;32m-> 1565\u001b[0;31m             \u001b[0;32mreturn\u001b[0m \u001b[0mfunc\u001b[0m\u001b[0;34m(\u001b[0m\u001b[0max\u001b[0m\u001b[0;34m,\u001b[0m \u001b[0;34m*\u001b[0m\u001b[0mmap\u001b[0m\u001b[0;34m(\u001b[0m\u001b[0msanitize_sequence\u001b[0m\u001b[0;34m,\u001b[0m \u001b[0margs\u001b[0m\u001b[0;34m)\u001b[0m\u001b[0;34m,\u001b[0m \u001b[0;34m**\u001b[0m\u001b[0mkwargs\u001b[0m\u001b[0;34m)\u001b[0m\u001b[0;34m\u001b[0m\u001b[0;34m\u001b[0m\u001b[0m\n\u001b[0m\u001b[1;32m   1566\u001b[0m \u001b[0;34m\u001b[0m\u001b[0m\n\u001b[1;32m   1567\u001b[0m         \u001b[0mbound\u001b[0m \u001b[0;34m=\u001b[0m \u001b[0mnew_sig\u001b[0m\u001b[0;34m.\u001b[0m\u001b[0mbind\u001b[0m\u001b[0;34m(\u001b[0m\u001b[0max\u001b[0m\u001b[0;34m,\u001b[0m \u001b[0;34m*\u001b[0m\u001b[0margs\u001b[0m\u001b[0;34m,\u001b[0m \u001b[0;34m**\u001b[0m\u001b[0mkwargs\u001b[0m\u001b[0;34m)\u001b[0m\u001b[0;34m\u001b[0m\u001b[0;34m\u001b[0m\u001b[0m\n",
            "\u001b[0;32m/usr/local/lib/python3.6/dist-packages/matplotlib/cbook/deprecation.py\u001b[0m in \u001b[0;36mwrapper\u001b[0;34m(*args, **kwargs)\u001b[0m\n\u001b[1;32m    356\u001b[0m                 \u001b[0;34mf\"%(removal)s.  If any parameter follows {name!r}, they \"\u001b[0m\u001b[0;34m\u001b[0m\u001b[0;34m\u001b[0m\u001b[0m\n\u001b[1;32m    357\u001b[0m                 f\"should be pass as keyword, not positionally.\")\n\u001b[0;32m--> 358\u001b[0;31m         \u001b[0;32mreturn\u001b[0m \u001b[0mfunc\u001b[0m\u001b[0;34m(\u001b[0m\u001b[0;34m*\u001b[0m\u001b[0margs\u001b[0m\u001b[0;34m,\u001b[0m \u001b[0;34m**\u001b[0m\u001b[0mkwargs\u001b[0m\u001b[0;34m)\u001b[0m\u001b[0;34m\u001b[0m\u001b[0;34m\u001b[0m\u001b[0m\n\u001b[0m\u001b[1;32m    359\u001b[0m \u001b[0;34m\u001b[0m\u001b[0m\n\u001b[1;32m    360\u001b[0m     \u001b[0;32mreturn\u001b[0m \u001b[0mwrapper\u001b[0m\u001b[0;34m\u001b[0m\u001b[0;34m\u001b[0m\u001b[0m\n",
            "\u001b[0;32m/usr/local/lib/python3.6/dist-packages/matplotlib/cbook/deprecation.py\u001b[0m in \u001b[0;36mwrapper\u001b[0;34m(*args, **kwargs)\u001b[0m\n\u001b[1;32m    356\u001b[0m                 \u001b[0;34mf\"%(removal)s.  If any parameter follows {name!r}, they \"\u001b[0m\u001b[0;34m\u001b[0m\u001b[0;34m\u001b[0m\u001b[0m\n\u001b[1;32m    357\u001b[0m                 f\"should be pass as keyword, not positionally.\")\n\u001b[0;32m--> 358\u001b[0;31m         \u001b[0;32mreturn\u001b[0m \u001b[0mfunc\u001b[0m\u001b[0;34m(\u001b[0m\u001b[0;34m*\u001b[0m\u001b[0margs\u001b[0m\u001b[0;34m,\u001b[0m \u001b[0;34m**\u001b[0m\u001b[0mkwargs\u001b[0m\u001b[0;34m)\u001b[0m\u001b[0;34m\u001b[0m\u001b[0;34m\u001b[0m\u001b[0m\n\u001b[0m\u001b[1;32m    359\u001b[0m \u001b[0;34m\u001b[0m\u001b[0m\n\u001b[1;32m    360\u001b[0m     \u001b[0;32mreturn\u001b[0m \u001b[0mwrapper\u001b[0m\u001b[0;34m\u001b[0m\u001b[0;34m\u001b[0m\u001b[0m\n",
            "\u001b[0;32m/usr/local/lib/python3.6/dist-packages/matplotlib/axes/_axes.py\u001b[0m in \u001b[0;36mimshow\u001b[0;34m(self, X, cmap, norm, aspect, interpolation, alpha, vmin, vmax, origin, extent, shape, filternorm, filterrad, imlim, resample, url, **kwargs)\u001b[0m\n\u001b[1;32m   5613\u001b[0m                               resample=resample, **kwargs)\n\u001b[1;32m   5614\u001b[0m \u001b[0;34m\u001b[0m\u001b[0m\n\u001b[0;32m-> 5615\u001b[0;31m         \u001b[0mim\u001b[0m\u001b[0;34m.\u001b[0m\u001b[0mset_data\u001b[0m\u001b[0;34m(\u001b[0m\u001b[0mX\u001b[0m\u001b[0;34m)\u001b[0m\u001b[0;34m\u001b[0m\u001b[0;34m\u001b[0m\u001b[0m\n\u001b[0m\u001b[1;32m   5616\u001b[0m         \u001b[0mim\u001b[0m\u001b[0;34m.\u001b[0m\u001b[0mset_alpha\u001b[0m\u001b[0;34m(\u001b[0m\u001b[0malpha\u001b[0m\u001b[0;34m)\u001b[0m\u001b[0;34m\u001b[0m\u001b[0;34m\u001b[0m\u001b[0m\n\u001b[1;32m   5617\u001b[0m         \u001b[0;32mif\u001b[0m \u001b[0mim\u001b[0m\u001b[0;34m.\u001b[0m\u001b[0mget_clip_path\u001b[0m\u001b[0;34m(\u001b[0m\u001b[0;34m)\u001b[0m \u001b[0;32mis\u001b[0m \u001b[0;32mNone\u001b[0m\u001b[0;34m:\u001b[0m\u001b[0;34m\u001b[0m\u001b[0;34m\u001b[0m\u001b[0m\n",
            "\u001b[0;32m/usr/local/lib/python3.6/dist-packages/matplotlib/image.py\u001b[0m in \u001b[0;36mset_data\u001b[0;34m(self, A)\u001b[0m\n\u001b[1;32m    697\u001b[0m                 or self._A.ndim == 3 and self._A.shape[-1] in [3, 4]):\n\u001b[1;32m    698\u001b[0m             raise TypeError(\"Invalid shape {} for image data\"\n\u001b[0;32m--> 699\u001b[0;31m                             .format(self._A.shape))\n\u001b[0m\u001b[1;32m    700\u001b[0m \u001b[0;34m\u001b[0m\u001b[0m\n\u001b[1;32m    701\u001b[0m         \u001b[0;32mif\u001b[0m \u001b[0mself\u001b[0m\u001b[0;34m.\u001b[0m\u001b[0m_A\u001b[0m\u001b[0;34m.\u001b[0m\u001b[0mndim\u001b[0m \u001b[0;34m==\u001b[0m \u001b[0;36m3\u001b[0m\u001b[0;34m:\u001b[0m\u001b[0;34m\u001b[0m\u001b[0;34m\u001b[0m\u001b[0m\n",
            "\u001b[0;31mTypeError\u001b[0m: Invalid shape (32, 224, 224, 3) for image data"
          ]
        },
        {
          "output_type": "display_data",
          "data": {
            "image/png": "[encoded data removed]",
            "text/plain": [
              "<Figure size 432x288 with 1 Axes>"
            ]
          },
          "metadata": {
            "tags": [],
            "needs_background": "light"
          }
        }
      ]
    },
    {
      "cell_type": "code",
      "metadata": {
        "id": "hDIoT63U64pq",
        "outputId": "378b0123-b4c5-40f1-b3a4-27c0707f16f4",
        "colab": {
          "base_uri": "https://localhost:8080/",
          "height": 372
        }
      },
      "source": [
        "from tensorflow.keras.applications.vgg16 import VGG16\n",
        "from tensorflow.keras.layers import Dense, Conv2D, MaxPool2D , Flatten\n",
        "\n",
        "loaded_model = VGG16(weights='imagenet', include_top=True,\n",
        "              input_shape=(IMG_HEIGHT, IMG_WIDTH, 3))\n",
        "\n",
        "vgg16 = Sequential()\n",
        "vgg16.add(loaded_model)\n",
        "vgg16.add(Flatten())\n",
        "vgg16.add(Dense(units=4096,activation=\"relu\"))\n",
        "vgg16.add(Dense(units=4096,activation=\"relu\"))\n",
        "vgg16.add(Dense(units=3, activation=\"softmax\"))\n",
        "\n",
        "\n",
        "vgg16.summary()"
      ],
      "execution_count": null,
      "outputs": [
        {
          "output_type": "stream",
          "text": [
            "Downloading data from https://storage.googleapis.com/tensorflow/keras-applications/vgg16/vgg16_weights_tf_dim_ordering_tf_kernels.h5\n",
            "553467904/553467096 [==============================] - 9s 0us/step\n",
            "Model: \"sequential\"\n",
            "_________________________________________________________________\n",
            "Layer (type)                 Output Shape              Param #   \n",
            "=================================================================\n",
            "vgg16 (Model)                (None, 1000)              138357544 \n",
            "_________________________________________________________________\n",
            "flatten (Flatten)            (None, 1000)              0         \n",
            "_________________________________________________________________\n",
            "dense (Dense)                (None, 4096)              4100096   \n",
            "_________________________________________________________________\n",
            "dense_1 (Dense)              (None, 4096)              16781312  \n",
            "_________________________________________________________________\n",
            "dense_2 (Dense)              (None, 3)                 12291     \n",
            "=================================================================\n",
            "Total params: 159,251,243\n",
            "Trainable params: 159,251,243\n",
            "Non-trainable params: 0\n",
            "_________________________________________________________________\n"
          ],
          "name": "stdout"
        }
      ]
    },
    {
      "cell_type": "code",
      "metadata": {
        "id": "VQnDYk5LIKTj"
      },
      "source": [
        "loss = tf.keras.losses.CategoricalCrossentropy(\n",
        "    from_logits=False,\n",
        "    label_smoothing=0,\n",
        "    reduction=\"auto\",\n",
        "    name=\"categorical_crossentropy\",\n",
        ")\n",
        "from tensorflow.keras.optimizers import Adam\n",
        "import tensorflow\n",
        "opt = Adam(lr=0.001)\n",
        "vgg16.compile(optimizer=opt, loss=loss, metrics=['accuracy'])"
      ],
      "execution_count": null,
      "outputs": []
    },
    {
      "cell_type": "code",
      "metadata": {
        "id": "f3kIBZBADTvM",
        "outputId": "731a0058-e564-4bf0-856d-d3a29f53aaad",
        "colab": {
          "base_uri": "https://localhost:8080/",
          "height": 496
        }
      },
      "source": [
        "from tensorflow.keras.callbacks import ModelCheckpoint, EarlyStopping\n",
        "checkpoint = ModelCheckpoint(\"gdrive/My Drive/adidas/02-model/weights/vgg16_1.h5\", monitor='val_loss', verbose=1, save_best_only=True, save_weights_only=False, mode='auto', period=4)\n",
        "early = EarlyStopping(monitor='val_loss', min_delta=0, patience=20, verbose=1, mode='auto')\n",
        "hist = vgg16.fit_generator(steps_per_epoch=100,\n",
        "                           generator=traindata, \n",
        "                           validation_data= testdata, \n",
        "                           validation_steps=10,\n",
        "                           epochs=100,\n",
        "                           callbacks=[checkpoint,early])"
      ],
      "execution_count": null,
      "outputs": [
        {
          "output_type": "stream",
          "text": [
            "WARNING:tensorflow:`period` argument is deprecated. Please use `save_freq` to specify the frequency in number of batches seen.\n",
            "Epoch 1/100\n",
            "100/100 [==============================] - 87s 865ms/step - loss: 1.0944 - accuracy: 0.3853 - val_loss: 1.1120 - val_accuracy: 0.2375\n",
            "Epoch 2/100\n",
            "100/100 [==============================] - 86s 864ms/step - loss: 1.0949 - accuracy: 0.3759 - val_loss: 1.1061 - val_accuracy: 0.3125\n",
            "Epoch 3/100\n",
            "100/100 [==============================] - 86s 865ms/step - loss: 1.0952 - accuracy: 0.3797 - val_loss: 1.1118 - val_accuracy: 0.2594\n",
            "Epoch 4/100\n",
            "100/100 [==============================] - ETA: 0s - loss: 1.0941 - accuracy: 0.3791\n",
            "Epoch 00004: val_loss improved from inf to 1.11387, saving model to gdrive/My Drive/adidas/02-model/weights/vgg16_1.h5\n",
            "100/100 [==============================] - 145s 1s/step - loss: 1.0941 - accuracy: 0.3791 - val_loss: 1.1139 - val_accuracy: 0.2812\n",
            "Epoch 5/100\n",
            "100/100 [==============================] - 87s 865ms/step - loss: 1.0942 - accuracy: 0.3816 - val_loss: 1.1074 - val_accuracy: 0.2812\n",
            "Epoch 6/100\n",
            "100/100 [==============================] - 88s 876ms/step - loss: 1.0962 - accuracy: 0.3674 - val_loss: 1.1188 - val_accuracy: 0.2562\n",
            "Epoch 7/100\n",
            "100/100 [==============================] - 85s 851ms/step - loss: 1.0957 - accuracy: 0.3713 - val_loss: 1.1039 - val_accuracy: 0.3187\n",
            "Epoch 8/100\n",
            "100/100 [==============================] - ETA: 0s - loss: 1.0935 - accuracy: 0.3819\n",
            "Epoch 00008: val_loss did not improve from 1.11387\n",
            "100/100 [==============================] - 85s 854ms/step - loss: 1.0935 - accuracy: 0.3819 - val_loss: 1.1151 - val_accuracy: 0.2594\n",
            "Epoch 9/100\n",
            "100/100 [==============================] - 86s 858ms/step - loss: 1.0963 - accuracy: 0.3681 - val_loss: 1.1098 - val_accuracy: 0.2656\n",
            "Epoch 10/100\n",
            "100/100 [==============================] - 86s 863ms/step - loss: 1.0934 - accuracy: 0.3859 - val_loss: 1.1132 - val_accuracy: 0.3000\n",
            "Epoch 11/100\n",
            " 98/100 [============================>.] - ETA: 1s - loss: 1.0942 - accuracy: 0.3804"
          ],
          "name": "stdout"
        }
      ]
    },
    {
      "cell_type": "code",
      "metadata": {
        "id": "hhnBEImL8oDW",
        "outputId": "de840112-3562-4893-84c9-c18c37962f31",
        "colab": {
          "base_uri": "https://localhost:8080/",
          "height": 368
        }
      },
      "source": [
        "print(\"[INFO] compiling model...\")\n",
        "opt = tf.keras.optimizers.Adam(\n",
        "    learning_rate=0.001, beta_1=0.9, beta_2=0.999, epsilon=1e-07, amsgrad=False,\n",
        "    name='Adam')\n",
        "metrics = [\"accuracy\"]\n",
        "loss = \"categorical_crossentropy\"\n",
        "\n",
        "# build model:\n",
        "model = LeNet().build(numChannels=3, \n",
        "                      imgRows=IMG_HEIGHT, \n",
        "                      imgCols=IMG_WIDTH, \n",
        "                      numClasses=len(CLASS_NAMES))\n",
        "\n",
        "\n",
        "# compile model:\n",
        "model.compile(loss=loss, optimizer=opt, metrics=metrics)\n",
        "\n",
        "print(\"[INFO] compiling DONE\")\n",
        "model.summary()"
      ],
      "execution_count": null,
      "outputs": [
        {
          "output_type": "stream",
          "text": [
            "[INFO] compiling model...\n"
          ],
          "name": "stdout"
        },
        {
          "output_type": "error",
          "ename": "ValueError",
          "evalue": "ignored",
          "traceback": [
            "\u001b[0;31m---------------------------------------------------------------------------\u001b[0m",
            "\u001b[0;31mValueError\u001b[0m                                Traceback (most recent call last)",
            "\u001b[0;32m<ipython-input-22-258597cee0bf>\u001b[0m in \u001b[0;36m<module>\u001b[0;34m()\u001b[0m\n\u001b[1;32m      7\u001b[0m \u001b[0;34m\u001b[0m\u001b[0m\n\u001b[1;32m      8\u001b[0m \u001b[0;31m# build model:\u001b[0m\u001b[0;34m\u001b[0m\u001b[0;34m\u001b[0m\u001b[0;34m\u001b[0m\u001b[0m\n\u001b[0;32m----> 9\u001b[0;31m model = vgg16().build(numChannels=3, \n\u001b[0m\u001b[1;32m     10\u001b[0m                       \u001b[0mimgRows\u001b[0m\u001b[0;34m=\u001b[0m\u001b[0mIMG_HEIGHT\u001b[0m\u001b[0;34m,\u001b[0m\u001b[0;34m\u001b[0m\u001b[0;34m\u001b[0m\u001b[0m\n\u001b[1;32m     11\u001b[0m                       \u001b[0mimgCols\u001b[0m\u001b[0;34m=\u001b[0m\u001b[0mIMG_WIDTH\u001b[0m\u001b[0;34m,\u001b[0m\u001b[0;34m\u001b[0m\u001b[0;34m\u001b[0m\u001b[0m\n",
            "\u001b[0;32m/usr/local/lib/python3.6/dist-packages/tensorflow/python/keras/engine/base_layer.py\u001b[0m in \u001b[0;36m__call__\u001b[0;34m(self, *args, **kwargs)\u001b[0m\n\u001b[1;32m    798\u001b[0m     \u001b[0;32melse\u001b[0m\u001b[0;34m:\u001b[0m\u001b[0;34m\u001b[0m\u001b[0;34m\u001b[0m\u001b[0m\n\u001b[1;32m    799\u001b[0m       raise ValueError(\n\u001b[0;32m--> 800\u001b[0;31m           'The first argument to `Layer.call` must always be passed.')\n\u001b[0m\u001b[1;32m    801\u001b[0m \u001b[0;34m\u001b[0m\u001b[0m\n\u001b[1;32m    802\u001b[0m     \u001b[0mcall_context\u001b[0m \u001b[0;34m=\u001b[0m \u001b[0mbase_layer_utils\u001b[0m\u001b[0;34m.\u001b[0m\u001b[0mcall_context\u001b[0m\u001b[0;34m(\u001b[0m\u001b[0;34m)\u001b[0m\u001b[0;34m\u001b[0m\u001b[0;34m\u001b[0m\u001b[0m\n",
            "\u001b[0;31mValueError\u001b[0m: The first argument to `Layer.call` must always be passed."
          ]
        }
      ]
    },
    {
      "cell_type": "markdown",
      "metadata": {
        "id": "JYyn_7ewkozv"
      },
      "source": [
        "## Setup model prerequisites"
      ]
    },
    {
      "cell_type": "code",
      "metadata": {
        "id": "aYAGy6glIZYY",
        "outputId": "e76813e1-8378-42e4-9349-e12556721147",
        "colab": {
          "base_uri": "https://localhost:8080/",
          "height": 34
        }
      },
      "source": [
        "# set callback:\n",
        "es_callback = tf.keras.callbacks.EarlyStopping(monitor='val_loss', patience=3,verbose=1)\n",
        "\n",
        "checkpoint_filepath = path_model + '/weights/CNN-03.ckpt'\n",
        "model_cp_cb = ModelCheckpoint(\n",
        "    filepath=checkpoint_filepath,\n",
        "    save_weights_only=True,\n",
        "    monitor='val_accuracy',\n",
        "    save_best_only=True)\n",
        "checkpoint_filepath"
      ],
      "execution_count": null,
      "outputs": [
        {
          "output_type": "execute_result",
          "data": {
            "text/plain": [
              "'/content/gdrive/My Drive/adidas/02-model/weights/CNN-03.ckpt'"
            ]
          },
          "metadata": {
            "tags": []
          },
          "execution_count": 30
        }
      ]
    },
    {
      "cell_type": "code",
      "metadata": {
        "id": "3s8APMG2WWj5"
      },
      "source": [
        "STEPS_PER_EPOCH = np.ceil(train_image_count/BATCH_SIZE)\n",
        "VAL_STEPS = np.ceil(val_image_count/BATCH_SIZE)"
      ],
      "execution_count": null,
      "outputs": []
    },
    {
      "cell_type": "code",
      "metadata": {
        "id": "wWDM98xM7Vaf",
        "outputId": "220419eb-f9b6-4819-abc9-ed28425faa86",
        "colab": {
          "base_uri": "https://localhost:8080/",
          "height": 52
        }
      },
      "source": [
        "# # Evaluate the model before training\n",
        "# loss, acc = model.evaluate(train_dataset, verbose=1,steps=STEPS_PER_EPOCH)\n",
        "# print(\"Untrained model, accuracy: {:5.2f}%\".format(100*acc))"
      ],
      "execution_count": null,
      "outputs": [
        {
          "output_type": "stream",
          "text": [
            "17/17 [==============================] - 25s 1s/step - loss: 1.0865 - accuracy: 0.3747\n",
            "Untrained model, accuracy: 37.47%\n"
          ],
          "name": "stdout"
        }
      ]
    },
    {
      "cell_type": "code",
      "metadata": {
        "id": "Skdk03nvjtcH",
        "outputId": "eb2a0828-8e8f-49d8-9270-16f5ddf1be59",
        "colab": {
          "base_uri": "https://localhost:8080/",
          "height": 820
        }
      },
      "source": [
        "# Setup Tensorboard - change from INACTIVE to Scalars after fit is done with the first epoch\n",
        "# It will update thrhought the training\n",
        "logdir = \"./logs\"\n",
        "!rm -rf ./logs\n",
        "%load_ext tensorboard\n",
        "tensorboard_callback = tf.keras.callbacks.TensorBoard(log_dir=logdir,histogram_freq=1)\n",
        "%tensorboard --logdir \"{logdir}\""
      ],
      "execution_count": null,
      "outputs": []
    },
    {
      "cell_type": "markdown",
      "metadata": {
        "id": "0w3RtF-clBUG"
      },
      "source": [
        "# Train 🚂"
      ]
    },
    {
      "cell_type": "code",
      "metadata": {
        "id": "0qV_BcLSB078",
        "outputId": "d363eaf5-af19-46b8-bd84-27de3f49276b",
        "colab": {
          "base_uri": "https://localhost:8080/",
          "height": 338
        }
      },
      "source": [
        "es_callback = tf.keras.callbacks.EarlyStopping(\n",
        "    monitor='val_loss', patience=3,verbose=1)\n",
        "\n",
        "history = model.fit(train_dataset, steps_per_epoch=STEPS_PER_EPOCH,\n",
        "          epochs=20, \n",
        "          verbose=1, \n",
        "          validation_data=val_dataset,validation_steps=VAL_STEPS,\n",
        "          callbacks=[model_cp_cb,tensorboard_callback,es_callback])"
      ],
      "execution_count": null,
      "outputs": [
        {
          "output_type": "stream",
          "text": [
            "Epoch 1/20\n",
            "17/17 [==============================] - 15s 880ms/step - loss: 1.0406 - accuracy: 0.5149 - val_loss: 0.7224 - val_accuracy: 0.7121\n",
            "Epoch 2/20\n",
            "17/17 [==============================] - 3s 158ms/step - loss: 0.5420 - accuracy: 0.7852 - val_loss: 0.5007 - val_accuracy: 0.8131\n",
            "Epoch 3/20\n",
            "17/17 [==============================] - 3s 166ms/step - loss: 0.3351 - accuracy: 0.8793 - val_loss: 0.3981 - val_accuracy: 0.8620\n",
            "Epoch 4/20\n",
            "17/17 [==============================] - 3s 159ms/step - loss: 0.2286 - accuracy: 0.9210 - val_loss: 0.3900 - val_accuracy: 0.8763\n",
            "Epoch 5/20\n",
            "17/17 [==============================] - 3s 168ms/step - loss: 0.1722 - accuracy: 0.9397 - val_loss: 0.3701 - val_accuracy: 0.8785\n",
            "Epoch 6/20\n",
            "17/17 [==============================] - 2s 145ms/step - loss: 0.1322 - accuracy: 0.9551 - val_loss: 0.4158 - val_accuracy: 0.8753\n",
            "Epoch 7/20\n",
            "17/17 [==============================] - 2s 145ms/step - loss: 0.1057 - accuracy: 0.9644 - val_loss: 0.4639 - val_accuracy: 0.8645\n",
            "Epoch 8/20\n",
            "17/17 [==============================] - 3s 154ms/step - loss: 0.0915 - accuracy: 0.9692 - val_loss: 0.3756 - val_accuracy: 0.8923\n",
            "Epoch 00008: early stopping\n"
          ],
          "name": "stdout"
        }
      ]
    },
    {
      "cell_type": "markdown",
      "metadata": {
        "id": "ZoXW6QdHlmlS"
      },
      "source": [
        "# Evaluate model on test set"
      ]
    },
    {
      "cell_type": "code",
      "metadata": {
        "id": "AQeVRd5NTrW5",
        "outputId": "309560be-b50a-4400-93ed-43eaf5e1dd56",
        "colab": {
          "base_uri": "https://localhost:8080/",
          "height": 72
        }
      },
      "source": [
        "from sklearn.metrics import classification_report,confusion_matrix\n",
        "import seaborn as sns"
      ],
      "execution_count": null,
      "outputs": [
        {
          "output_type": "stream",
          "text": [
            "/usr/local/lib/python3.6/dist-packages/statsmodels/tools/_testing.py:19: FutureWarning: pandas.util.testing is deprecated. Use the functions in the public API at pandas.testing instead.\n",
            "  import pandas.util.testing as tm\n"
          ],
          "name": "stderr"
        }
      ]
    },
    {
      "cell_type": "code",
      "metadata": {
        "id": "ePTxuBaplp0D",
        "outputId": "8f26842f-9dba-4ad6-ec76-9992dcc3d04a",
        "colab": {
          "base_uri": "https://localhost:8080/",
          "height": 34
        }
      },
      "source": [
        "# Get y_true and y_pred\n",
        "X_true = np.array([l[0].numpy() for l in list(labeled_test)])\n",
        "Y_true = np.array([list(l[1].numpy()) for l in list(labeled_test)])\n",
        "y_true = np.argmax(Y_true,axis=1)\n",
        "Y_pred = model.predict(np.array(X_true),verbose=1)\n",
        "y_pred = np.argmax(Y_pred, axis=1)"
      ],
      "execution_count": null,
      "outputs": [
        {
          "output_type": "stream",
          "text": [
            "204/204 [==============================] - 1s 3ms/step\n"
          ],
          "name": "stdout"
        }
      ]
    },
    {
      "cell_type": "code",
      "metadata": {
        "id": "1sVkZXoDlp8S",
        "outputId": "a3806235-c087-4949-be92-39ba5c90c55a",
        "colab": {
          "base_uri": "https://localhost:8080/",
          "height": 212
        }
      },
      "source": [
        "print('Classification Report')\n",
        "print(classification_report(y_true, y_pred, target_names=CLASS_NAMES))"
      ],
      "execution_count": null,
      "outputs": [
        {
          "output_type": "stream",
          "text": [
            "Classification Report\n",
            "              precision    recall  f1-score   support\n",
            "\n",
            "    saopaulo       0.77      0.91      0.84      1771\n",
            "         goa       0.98      0.88      0.93      2427\n",
            "       paris       0.92      0.88      0.90      2320\n",
            "\n",
            "    accuracy                           0.89      6518\n",
            "   macro avg       0.89      0.89      0.89      6518\n",
            "weighted avg       0.90      0.89      0.89      6518\n",
            "\n"
          ],
          "name": "stdout"
        }
      ]
    },
    {
      "cell_type": "code",
      "metadata": {
        "id": "U5xjq7GZlp_B",
        "outputId": "fba10270-9f62-4f3c-b803-3a9e6b2fa2ff",
        "colab": {
          "base_uri": "https://localhost:8080/",
          "height": 755
        }
      },
      "source": [
        "\n",
        "print('Confusion Matrix')\n",
        "cm = confusion_matrix(y_true, y_pred)\n",
        "\n",
        "plt.figure(figsize=(13,13))\n",
        "sns.heatmap(cm, annot=True, fmt='g',cmap = 'coolwarm',square=True,xticklabels=CLASS_NAMES,yticklabels=CLASS_NAMES)\n",
        "plt.yticks(rotation=0)\n",
        "plt.xlabel('Predicted')\n",
        "plt.ylabel('Actual');"
      ],
      "execution_count": null,
      "outputs": [
        {
          "output_type": "stream",
          "text": [
            "Confusion Matrix\n"
          ],
          "name": "stdout"
        },
        {
          "output_type": "display_data",
          "data": {
            "image/png": "[encoded data removed]",
            "text/plain": [
              "<Figure size 936x936 with 2 Axes>"
            ]
          },
          "metadata": {
            "tags": [],
            "needs_background": "light"
          }
        }
      ]
    },
    {
      "cell_type": "markdown",
      "metadata": {
        "id": "HZvSBCwie38z"
      },
      "source": [
        "# Attempt at generalization"
      ]
    },
    {
      "cell_type": "code",
      "metadata": {
        "id": "2USUlHcFV07Q",
        "outputId": "50e79f6b-c6c2-4181-83a0-789010876dad",
        "colab": {
          "base_uri": "https://localhost:8080/",
          "height": 765
        }
      },
      "source": [
        "# Setup generalization dataset (from drive)\n",
        "gen_dir = Path(path_data+'/generalization/')\n",
        "list_gen = tf.data.Dataset.list_files(str(gen_dir/\"*/*\"),shuffle=False)\n",
        "labeled_gen = list_gen.map(process_path, num_parallel_calls=AUTOTUNE)\n",
        "gen_dataset = prepare_for_training(labeled_gen)\n",
        "\n",
        "# Get y_true and y_pred\n",
        "X_true = np.array([l[0].numpy() for l in list(labeled_gen)])\n",
        "Y_true = np.array([list(l[1].numpy()) for l in list(labeled_gen)])\n",
        "y_true = np.argmax(Y_true,axis=1)\n",
        "Y_pred = model.predict(np.array(X_true),verbose=1)\n",
        "y_pred = np.argmax(Y_pred, axis=1)\n",
        "\n",
        "# Plot confusion matrix\n",
        "cm = confusion_matrix(y_true, y_pred)\n",
        "plt.figure(figsize=(13,13))\n",
        "sns.heatmap(cm, annot=True, fmt='g',cmap = 'coolwarm',square=True,xticklabels=CLASS_NAMES,yticklabels=CLASS_NAMES)\n",
        "plt.yticks(rotation=0)\n",
        "plt.xlabel('Predicted')\n",
        "plt.ylabel('Actual');"
      ],
      "execution_count": null,
      "outputs": [
        {
          "output_type": "stream",
          "text": [
            "1/1 [==============================] - 0s 1ms/step\n"
          ],
          "name": "stdout"
        },
        {
          "output_type": "display_data",
          "data": {
            "image/png": "[encoded data removed]",
            "text/plain": [
              "<Figure size 936x936 with 2 Axes>"
            ]
          },
          "metadata": {
            "tags": [],
            "needs_background": "light"
          }
        }
      ]
    },
    {
      "cell_type": "code",
      "metadata": {
        "id": "V9cm6JX7dfSS"
      },
      "source": [
        "from tensorflow.keras.preprocessing.image import array_to_img, img_to_array, load_img"
      ],
      "execution_count": null,
      "outputs": []
    },
    {
      "cell_type": "code",
      "metadata": {
        "id": "stWKxTtteOZV"
      },
      "source": [
        "def get_data(file_list,norm_range=[-1,1],img_size=(128,128)):\n",
        "    X = []\n",
        "    for filename in file_list :\n",
        "        img = img_to_array(load_img(filename, target_size = img_size))\n",
        "        X.append(img)\n",
        "    X = np.array(X).astype('float32')\n",
        "    if norm_range == [-1,1]:\n",
        "      X = (X - X.mean()) / X.std()\n",
        "      X = np.clip(X,-1,1)\n",
        "    elif norm_range == [0,1]:\n",
        "      X = X / 255\n",
        "    else:\n",
        "      print('bad range')\n",
        "      return\n",
        "    return X,X.mean(),X.std()"
      ],
      "execution_count": null,
      "outputs": []
    },
    {
      "cell_type": "code",
      "metadata": {
        "id": "0Bim5GuHfZE5"
      },
      "source": [
        "paris_files = glob.glob('./train/paris/*')"
      ],
      "execution_count": null,
      "outputs": []
    },
    {
      "cell_type": "code",
      "metadata": {
        "id": "d5hCCmLOfWzu"
      },
      "source": [
        "dataset,mean,std = get_data(paris_files)"
      ],
      "execution_count": null,
      "outputs": []
    },
    {
      "cell_type": "code",
      "metadata": {
        "id": "5iuKn_kyffNm",
        "outputId": "f5f3ee75-fb3c-4427-d600-6d9fb06ddb9d",
        "colab": {
          "base_uri": "https://localhost:8080/",
          "height": 34
        }
      },
      "source": [
        "dataset.min(),dataset.max()"
      ],
      "execution_count": null,
      "outputs": [
        {
          "output_type": "execute_result",
          "data": {
            "text/plain": [
              "(-1.0, 1.0)"
            ]
          },
          "metadata": {
            "tags": []
          },
          "execution_count": 13
        }
      ]
    },
    {
      "cell_type": "code",
      "metadata": {
        "id": "7mgGTKaugbzb",
        "outputId": "4b194fb5-67c4-4878-8418-9f9f204512dd",
        "colab": {
          "base_uri": "https://localhost:8080/",
          "height": 240
        }
      },
      "source": [
        "# (X - X.mean()) / X.std()\n",
        "\n",
        "im = dataset[2]\n",
        "\n",
        "plt.imshow(im*im.std() + im.mean());\n"
      ],
      "execution_count": null,
      "outputs": [
        {
          "output_type": "error",
          "ename": "NameError",
          "evalue": "ignored",
          "traceback": [
            "\u001b[0;31m---------------------------------------------------------------------------\u001b[0m",
            "\u001b[0;31mNameError\u001b[0m                                 Traceback (most recent call last)",
            "\u001b[0;32m<ipython-input-1-50055a32114f>\u001b[0m in \u001b[0;36m<module>\u001b[0;34m()\u001b[0m\n\u001b[1;32m      1\u001b[0m \u001b[0;31m# (X - X.mean()) / X.std()\u001b[0m\u001b[0;34m\u001b[0m\u001b[0;34m\u001b[0m\u001b[0;34m\u001b[0m\u001b[0m\n\u001b[1;32m      2\u001b[0m \u001b[0;34m\u001b[0m\u001b[0m\n\u001b[0;32m----> 3\u001b[0;31m \u001b[0mim\u001b[0m \u001b[0;34m=\u001b[0m \u001b[0mdataset\u001b[0m\u001b[0;34m[\u001b[0m\u001b[0;36m2\u001b[0m\u001b[0;34m]\u001b[0m\u001b[0;34m\u001b[0m\u001b[0;34m\u001b[0m\u001b[0m\n\u001b[0m\u001b[1;32m      4\u001b[0m \u001b[0;34m\u001b[0m\u001b[0m\n\u001b[1;32m      5\u001b[0m \u001b[0mplt\u001b[0m\u001b[0;34m.\u001b[0m\u001b[0mimshow\u001b[0m\u001b[0;34m(\u001b[0m\u001b[0mim\u001b[0m\u001b[0;34m*\u001b[0m\u001b[0mim\u001b[0m\u001b[0;34m.\u001b[0m\u001b[0mstd\u001b[0m\u001b[0;34m(\u001b[0m\u001b[0;34m)\u001b[0m \u001b[0;34m+\u001b[0m \u001b[0mim\u001b[0m\u001b[0;34m.\u001b[0m\u001b[0mmean\u001b[0m\u001b[0;34m(\u001b[0m\u001b[0;34m)\u001b[0m\u001b[0;34m)\u001b[0m\u001b[0;34m;\u001b[0m\u001b[0;34m\u001b[0m\u001b[0;34m\u001b[0m\u001b[0m\n",
            "\u001b[0;31mNameError\u001b[0m: name 'dataset' is not defined"
          ]
        }
      ]
    },
    {
      "cell_type": "code",
      "metadata": {
        "id": "7wOlQFP9Jl5F"
      },
      "source": [
        ""
      ],
      "execution_count": null,
      "outputs": []
    }
  ]
}