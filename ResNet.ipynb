{
  "nbformat": 4,
  "nbformat_minor": 0,
  "metadata": {
    "colab": {
      "name": "ResNet",
      "provenance": [],
      "collapsed_sections": [],
      "toc_visible": true,
      "machine_shape": "hm",
      "include_colab_link": true
    },
    "kernelspec": {
      "name": "python3",
      "display_name": "Python 3"
    },
    "accelerator": "GPU"
  },
  "cells": [
    {
      "cell_type": "markdown",
      "metadata": {
        "id": "view-in-github",
        "colab_type": "text"
      },
      "source": [
        "<a href=\"https://colab.research.google.com/github/dormeir999/cities-classifier/blob/master/ResNet.ipynb\" target=\"_parent\"><img src=\"https://colab.research.google.com/assets/colab-badge.svg\" alt=\"Open In Colab\"/></a>"
      ]
    },
    {
      "cell_type": "markdown",
      "metadata": {
        "id": "bsHRUi9tn_Cp"
      },
      "source": [
        "# Imports & setup"
      ]
    },
    {
      "cell_type": "code",
      "metadata": {
        "id": "lO10Geax7UW3"
      },
      "source": [
        "import numpy as np\n",
        "import pandas as pd \n",
        "import matplotlib.pyplot as plt\n",
        "from pathlib import Path\n",
        "import requests\n",
        "import zipfile\n",
        "import glob\n",
        "import os\n",
        "from google.colab import drive\n",
        "import cv2\n",
        "import tensorflow as tf\n",
        "from tensorflow.keras.preprocessing.image import ImageDataGenerator\n",
        "from tensorflow.keras.models import Sequential\n",
        "from tensorflow.keras.layers import Conv2D, MaxPooling2D\n",
        "from tensorflow.keras.layers import Activation, Flatten, Dense, BatchNormalization, Dropout\n",
        "from tensorflow.keras.optimizers import SGD\n",
        "from tensorflow.keras import backend as K\n",
        "from tensorflow.keras.callbacks import ModelCheckpoint\n",
        "import os\n",
        "import tensorflow as tf\n",
        "from pathlib import Path\n",
        "import glob\n",
        "import numpy as np\n",
        "AUTOTUNE = tf.data.experimental.AUTOTUNE"
      ],
      "execution_count": null,
      "outputs": []
    },
    {
      "cell_type": "code",
      "metadata": {
        "id": "YhDe56Yg7iFo",
        "outputId": "3cbc21a3-c102-4848-e2a6-08c8e7f37008",
        "colab": {
          "base_uri": "https://localhost:8080/",
          "height": 34
        }
      },
      "source": [
        "drive.mount('/content/gdrive')"
      ],
      "execution_count": null,
      "outputs": [
        {
          "output_type": "stream",
          "text": [
            "Drive already mounted at /content/gdrive; to attempt to forcibly remount, call drive.mount(\"/content/gdrive\", force_remount=True).\n"
          ],
          "name": "stdout"
        }
      ]
    },
    {
      "cell_type": "code",
      "metadata": {
        "id": "GNgXZnwr7lUz",
        "outputId": "3587ce55-4349-46a2-d5a8-7bb9d98c41ea",
        "colab": {
          "base_uri": "https://localhost:8080/",
          "height": 230
        }
      },
      "source": [
        "path_model = '/content/gdrive/My Drive/adidas/02-model'\n",
        "path_data =  '/content/gdrive/My Drive/adidas/01-data'\n",
        "os.listdir(path_model) # test"
      ],
      "execution_count": null,
      "outputs": [
        {
          "output_type": "execute_result",
          "data": {
            "text/plain": [
              "['.ipynb_checkpoints',\n",
              " 'weights',\n",
              " 'logs',\n",
              " 'model',\n",
              " 'LeNet-Model',\n",
              " 'tf image classification.ipynb',\n",
              " 'tf image classification - Dor.ipynb',\n",
              " 'Daniel Research Log.gdoc',\n",
              " 'GAN',\n",
              " 'inceptionsV3_19cities_at.h5',\n",
              " 'inceptionsV3_19cities.h5',\n",
              " 'MobileNet-19cities-ACC90.h5']"
            ]
          },
          "metadata": {
            "tags": []
          },
          "execution_count": 10
        }
      ]
    },
    {
      "cell_type": "code",
      "metadata": {
        "id": "zj-egQsq7nmP"
      },
      "source": [
        "# colab output:\n",
        "output_folder_path = '.'\n",
        "output_folder_path = Path(output_folder_path)"
      ],
      "execution_count": null,
      "outputs": []
    },
    {
      "cell_type": "markdown",
      "metadata": {
        "id": "ioKjZ8iR7xx6"
      },
      "source": [
        "# Load Data\n"
      ]
    },
    {
      "cell_type": "code",
      "metadata": {
        "id": "Ye3ipmY9PI7C"
      },
      "source": [
        "# get list of links from aws\n",
        "map_links = pd.read_csv(\n",
        "    'https://ww-research.s3-us-west-2.amazonaws.com/Arad/adidas/mapillary_links.csv'\n",
        "    ,header=None).iloc[:,0].to_list()"
      ],
      "execution_count": null,
      "outputs": []
    },
    {
      "cell_type": "code",
      "metadata": {
        "id": "YJS8U6iS70JO"
      },
      "source": [
        "def download_url(url, save_path=False, chunk_size=128):\n",
        "    \"downloads zip files to the folder that the notebook / python file is saved\"\n",
        "    if not save_path:\n",
        "        save_path = url.split('/')[-1]\n",
        "\n",
        "    with requests.get(url, stream=True) as r:\n",
        "        with open(save_path, 'wb') as fd:\n",
        "            for chunk in r.iter_content(chunk_size=chunk_size):\n",
        "                fd.write(chunk)\n",
        "    print(f\"file {save_path} succesfuly downloaded\")\n",
        "\n",
        "    \n",
        "def unzip_to_structure(zipfile_path, output_root_folder):\n",
        "    \"\"\"unzips files to specified output root folder with structure: \n",
        "        <output_root_folder> / <set_type> / <city> / <img_key>.jpg\"\"\"\n",
        "    output_root_folder = Path(output_root_folder)\n",
        "    file_parts = str(Path(zipfile_path).stem).split('_')\n",
        "    city = file_parts[0]\n",
        "    set_type = file_parts[1]\n",
        "    for s in ['train','test','val']:   \n",
        "      with zipfile.ZipFile(zipfile_path, 'r') as zip_ref:\n",
        "        if set_type == s:\n",
        "          zip_ref.extractall(output_root_folder / s )\n",
        "    print(f\"images from '{zipfile_path}' succesfuly unziped to '{output_root_folder / set_type / city}'\")\n",
        "\n",
        "\n",
        "def get_images(cities,output_path=output_folder_path,download_test=False):\n",
        "  \"\"\"gets all images for defined cities\n",
        "  param:: cities, array of cities\n",
        "  param:: output_path \"\"\"\n",
        "  linkz = []\n",
        "  if not download_test:\n",
        "    links = [l for l in map_links if 'test' not in l]\n",
        "  else:\n",
        "    links = map_links\n",
        "  for city in cities:\n",
        "    for link in links:\n",
        "      if city in link:\n",
        "        linkz.append(link) \n",
        "  # download files to current directory\n",
        "  for link in linkz:\n",
        "      download_url(link)\n",
        "  # unzip images to destination with format: \n",
        "  # <output_root_folder> / <set_type> / <city> / <img_key>.jpg\n",
        "  for link in linkz:\n",
        "      filename = Path(link).name\n",
        "      unzip_to_structure(filename,output_path)  "
      ],
      "execution_count": null,
      "outputs": []
    },
    {
      "cell_type": "code",
      "metadata": {
        "id": "-70cyn7zCeyu",
        "outputId": "a33e6d9d-0a66-49f8-f01b-d980545f5b7b",
        "colab": {
          "base_uri": "https://localhost:8080/",
          "height": 1000
        }
      },
      "source": [
        "# get data to current working dir (for changing dir got to top of the notebook):\n",
        "\n",
        "# available cities:\n",
        "my_cities = ['saopaulo','moscow','paris','manila','ottawa','austin','bangkok',\n",
        " 'sf','phoenix','melbourne','tokyo','goa','toronto','berlin', 'budapest',\n",
        " 'cph','helsinki','boston','amsterdam']\n",
        "\n",
        "# city selection:\n",
        "# my_cities = ['saopaulo','paris','goa']\n",
        "\n",
        "# download images from aws:\n",
        "get_images(my_cities,download_test=True) "
      ],
      "execution_count": null,
      "outputs": [
        {
          "output_type": "stream",
          "text": [
            "file saopaulo_train.zip succesfuly downloaded\n",
            "file saopaulo_val.zip succesfuly downloaded\n",
            "file saopaulo_test.zip succesfuly downloaded\n",
            "file moscow_train.zip succesfuly downloaded\n",
            "file moscow_val.zip succesfuly downloaded\n",
            "file moscow_test.zip succesfuly downloaded\n",
            "file paris_train.zip succesfuly downloaded\n",
            "file paris_val.zip succesfuly downloaded\n",
            "file paris_test.zip succesfuly downloaded\n",
            "file manila_train.zip succesfuly downloaded\n",
            "file manila_val.zip succesfuly downloaded\n",
            "file manila_test.zip succesfuly downloaded\n",
            "file ottawa_train.zip succesfuly downloaded\n",
            "file ottawa_val.zip succesfuly downloaded\n",
            "file ottawa_test.zip succesfuly downloaded\n",
            "file austin_train.zip succesfuly downloaded\n",
            "file austin_val.zip succesfuly downloaded\n",
            "file austin_test.zip succesfuly downloaded\n",
            "file bangkok_train.zip succesfuly downloaded\n",
            "file bangkok_val.zip succesfuly downloaded\n",
            "file bangkok_test.zip succesfuly downloaded\n",
            "file sf_train.zip succesfuly downloaded\n",
            "file sf_val.zip succesfuly downloaded\n",
            "file sf_test.zip succesfuly downloaded\n",
            "file phoenix_train.zip succesfuly downloaded\n",
            "file phoenix_val.zip succesfuly downloaded\n",
            "file phoenix_test.zip succesfuly downloaded\n",
            "file melbourne_train.zip succesfuly downloaded\n",
            "file melbourne_val.zip succesfuly downloaded\n",
            "file melbourne_test.zip succesfuly downloaded\n",
            "file tokyo_train.zip succesfuly downloaded\n",
            "file tokyo_val.zip succesfuly downloaded\n",
            "file tokyo_test.zip succesfuly downloaded\n",
            "file goa_train.zip succesfuly downloaded\n",
            "file goa_val.zip succesfuly downloaded\n",
            "file goa_test.zip succesfuly downloaded\n",
            "file toronto_train.zip succesfuly downloaded\n",
            "file toronto_val.zip succesfuly downloaded\n",
            "file toronto_test.zip succesfuly downloaded\n",
            "file berlin_train.zip succesfuly downloaded\n",
            "file berlin_val.zip succesfuly downloaded\n",
            "file berlin_test.zip succesfuly downloaded\n",
            "file budapest_train.zip succesfuly downloaded\n",
            "file budapest_val.zip succesfuly downloaded\n",
            "file budapest_test.zip succesfuly downloaded\n",
            "file cph_train.zip succesfuly downloaded\n",
            "file cph_val.zip succesfuly downloaded\n",
            "file cph_test.zip succesfuly downloaded\n",
            "file helsinki_train.zip succesfuly downloaded\n",
            "file helsinki_val.zip succesfuly downloaded\n",
            "file helsinki_test.zip succesfuly downloaded\n",
            "file boston_train.zip succesfuly downloaded\n",
            "file boston_val.zip succesfuly downloaded\n",
            "file boston_test.zip succesfuly downloaded\n",
            "file amsterdam_train.zip succesfuly downloaded\n",
            "file amsterdam_val.zip succesfuly downloaded\n",
            "file amsterdam_test.zip succesfuly downloaded\n",
            "images from 'saopaulo_train.zip' succesfuly unziped to 'train/saopaulo'\n",
            "images from 'saopaulo_val.zip' succesfuly unziped to 'val/saopaulo'\n",
            "images from 'saopaulo_test.zip' succesfuly unziped to 'test/saopaulo'\n",
            "images from 'moscow_train.zip' succesfuly unziped to 'train/moscow'\n",
            "images from 'moscow_val.zip' succesfuly unziped to 'val/moscow'\n",
            "images from 'moscow_test.zip' succesfuly unziped to 'test/moscow'\n",
            "images from 'paris_train.zip' succesfuly unziped to 'train/paris'\n",
            "images from 'paris_val.zip' succesfuly unziped to 'val/paris'\n",
            "images from 'paris_test.zip' succesfuly unziped to 'test/paris'\n",
            "images from 'manila_train.zip' succesfuly unziped to 'train/manila'\n",
            "images from 'manila_val.zip' succesfuly unziped to 'val/manila'\n",
            "images from 'manila_test.zip' succesfuly unziped to 'test/manila'\n",
            "images from 'ottawa_train.zip' succesfuly unziped to 'train/ottawa'\n",
            "images from 'ottawa_val.zip' succesfuly unziped to 'val/ottawa'\n",
            "images from 'ottawa_test.zip' succesfuly unziped to 'test/ottawa'\n",
            "images from 'austin_train.zip' succesfuly unziped to 'train/austin'\n",
            "images from 'austin_val.zip' succesfuly unziped to 'val/austin'\n",
            "images from 'austin_test.zip' succesfuly unziped to 'test/austin'\n",
            "images from 'bangkok_train.zip' succesfuly unziped to 'train/bangkok'\n",
            "images from 'bangkok_val.zip' succesfuly unziped to 'val/bangkok'\n",
            "images from 'bangkok_test.zip' succesfuly unziped to 'test/bangkok'\n",
            "images from 'sf_train.zip' succesfuly unziped to 'train/sf'\n",
            "images from 'sf_val.zip' succesfuly unziped to 'val/sf'\n",
            "images from 'sf_test.zip' succesfuly unziped to 'test/sf'\n",
            "images from 'phoenix_train.zip' succesfuly unziped to 'train/phoenix'\n",
            "images from 'phoenix_val.zip' succesfuly unziped to 'val/phoenix'\n",
            "images from 'phoenix_test.zip' succesfuly unziped to 'test/phoenix'\n",
            "images from 'melbourne_train.zip' succesfuly unziped to 'train/melbourne'\n",
            "images from 'melbourne_val.zip' succesfuly unziped to 'val/melbourne'\n",
            "images from 'melbourne_test.zip' succesfuly unziped to 'test/melbourne'\n",
            "images from 'tokyo_train.zip' succesfuly unziped to 'train/tokyo'\n",
            "images from 'tokyo_val.zip' succesfuly unziped to 'val/tokyo'\n",
            "images from 'tokyo_test.zip' succesfuly unziped to 'test/tokyo'\n",
            "images from 'goa_train.zip' succesfuly unziped to 'train/goa'\n",
            "images from 'goa_val.zip' succesfuly unziped to 'val/goa'\n",
            "images from 'goa_test.zip' succesfuly unziped to 'test/goa'\n",
            "images from 'toronto_train.zip' succesfuly unziped to 'train/toronto'\n",
            "images from 'toronto_val.zip' succesfuly unziped to 'val/toronto'\n",
            "images from 'toronto_test.zip' succesfuly unziped to 'test/toronto'\n",
            "images from 'berlin_train.zip' succesfuly unziped to 'train/berlin'\n",
            "images from 'berlin_val.zip' succesfuly unziped to 'val/berlin'\n",
            "images from 'berlin_test.zip' succesfuly unziped to 'test/berlin'\n",
            "images from 'budapest_train.zip' succesfuly unziped to 'train/budapest'\n",
            "images from 'budapest_val.zip' succesfuly unziped to 'val/budapest'\n",
            "images from 'budapest_test.zip' succesfuly unziped to 'test/budapest'\n",
            "images from 'cph_train.zip' succesfuly unziped to 'train/cph'\n",
            "images from 'cph_val.zip' succesfuly unziped to 'val/cph'\n",
            "images from 'cph_test.zip' succesfuly unziped to 'test/cph'\n",
            "images from 'helsinki_train.zip' succesfuly unziped to 'train/helsinki'\n",
            "images from 'helsinki_val.zip' succesfuly unziped to 'val/helsinki'\n",
            "images from 'helsinki_test.zip' succesfuly unziped to 'test/helsinki'\n",
            "images from 'boston_train.zip' succesfuly unziped to 'train/boston'\n",
            "images from 'boston_val.zip' succesfuly unziped to 'val/boston'\n",
            "images from 'boston_test.zip' succesfuly unziped to 'test/boston'\n",
            "images from 'amsterdam_train.zip' succesfuly unziped to 'train/amsterdam'\n",
            "images from 'amsterdam_val.zip' succesfuly unziped to 'val/amsterdam'\n",
            "images from 'amsterdam_test.zip' succesfuly unziped to 'test/amsterdam'\n"
          ],
          "name": "stdout"
        }
      ]
    },
    {
      "cell_type": "code",
      "metadata": {
        "id": "zx8AZLz465Lp",
        "outputId": "8418b5d4-4d74-43f3-9c99-871ebd53e163",
        "colab": {
          "base_uri": "https://localhost:8080/",
          "height": 34
        }
      },
      "source": [
        "!rm *.zip\n"
      ],
      "execution_count": null,
      "outputs": [
        {
          "output_type": "stream",
          "text": [
            "rm: cannot remove '*.zip': No such file or directory\n"
          ],
          "name": "stdout"
        }
      ]
    },
    {
      "cell_type": "code",
      "metadata": {
        "id": "trX_Bah-7drH"
      },
      "source": [
        "rm -rf sample_data"
      ],
      "execution_count": null,
      "outputs": []
    },
    {
      "cell_type": "markdown",
      "metadata": {
        "id": "6i38qMED6425"
      },
      "source": [
        ""
      ]
    },
    {
      "cell_type": "code",
      "metadata": {
        "id": "mcFqoO05vITp"
      },
      "source": [
        "# def get_data_to_numpy(file_list):\n",
        "#     X = []\n",
        "#     y = []\n",
        "\n",
        "#     for filename in file_list :\n",
        "#         img = img_to_array(load_img(filename, target_size = (128,128)))\n",
        "#         X.append(img)\n",
        "#         parts = tf.strings.split(filename, os.path.sep)\n",
        "#   # The second to last is the class-directory\n",
        "#         y.append(parts[-2])\n",
        "\n",
        "#     X = np.array(X).astype('float32')\n",
        "#     # X = (X - X.mean()) / X.mean()\n",
        "#     X = X / 255\n",
        "#     return X, y\n",
        "\n",
        "# import glob\n",
        "# from tensorflow.keras.preprocessing.image import array_to_img, img_to_array, load_img\n",
        "\n",
        "# train_filelist = glob.glob('./train/*/*')\n",
        "# val_filelist = glob.glob('./val/*/*')\n",
        "# test_filelist = glob.glob('./train/*/*')\n",
        "# len(train_filelist), len(val_filelist), len(test_filelist)\n",
        "\n",
        "# X_train, y_train = get_data_to_numpy(train_filelist)\n",
        "# X_val, y_val = get_data_to_numpy(val_filelist)\n",
        "# X_test, y_test = get_data_to_numpy(test_filelist)"
      ],
      "execution_count": null,
      "outputs": []
    },
    {
      "cell_type": "code",
      "metadata": {
        "id": "5SQ2xKvAVvos"
      },
      "source": [
        "# Y_train = [] \n",
        "# for y in y_train:\n",
        "#   Y_train.append(y.numpy())\n",
        "\n",
        "# Y_test = [] \n",
        "# for y in y_test:\n",
        "#   Y_test.append(y.numpy())\n",
        "\n",
        "# Y_val = [] \n",
        "# for y in y_val:\n",
        "#   Y_val.append(y.numpy())"
      ],
      "execution_count": null,
      "outputs": []
    },
    {
      "cell_type": "code",
      "metadata": {
        "id": "2_FExmkNTkOH",
        "outputId": "ab1c664d-aed8-4365-aa7f-f2faaca8fa1f",
        "colab": {
          "base_uri": "https://localhost:8080/",
          "height": 240
        }
      },
      "source": [
        "# import tensorflow as tf\n",
        "# tf.compat.v1.disable_eager_execution()\n",
        "# vocab = ['paris', 'goa', 'saopaulo']\n",
        "\n",
        "# input = tf.compat.v1.placeholder(dtype=tf.string, shape=(None,))\n",
        "# matches = tf.stack([tf.equal(input, s) for s in vocab], axis=-1)\n",
        "# onehot = tf.cast(matches, tf.float32)\n",
        "\n",
        "# with tf.compat.v1.Session() as sess:\n",
        "#     Y_train_one_hot = sess.run(onehot, feed_dict={input: Y_train})\n",
        "# with tf.compat.v1.Session() as sess:\n",
        "#     Y_test_one_hot = sess.run(onehot, feed_dict={input: Y_test})\n",
        "# with tf.compat.v1.Session() as sess:\n",
        "#     Y_val_one_hot = sess.run(onehot, feed_dict={input: Y_val})"
      ],
      "execution_count": null,
      "outputs": [
        {
          "output_type": "error",
          "ename": "NameError",
          "evalue": "ignored",
          "traceback": [
            "\u001b[0;31m---------------------------------------------------------------------------\u001b[0m",
            "\u001b[0;31mNameError\u001b[0m                                 Traceback (most recent call last)",
            "\u001b[0;32m<ipython-input-12-5c92858db7ca>\u001b[0m in \u001b[0;36m<module>\u001b[0;34m()\u001b[0m\n\u001b[1;32m      8\u001b[0m \u001b[0;34m\u001b[0m\u001b[0m\n\u001b[1;32m      9\u001b[0m \u001b[0;32mwith\u001b[0m \u001b[0mtf\u001b[0m\u001b[0;34m.\u001b[0m\u001b[0mcompat\u001b[0m\u001b[0;34m.\u001b[0m\u001b[0mv1\u001b[0m\u001b[0;34m.\u001b[0m\u001b[0mSession\u001b[0m\u001b[0;34m(\u001b[0m\u001b[0;34m)\u001b[0m \u001b[0;32mas\u001b[0m \u001b[0msess\u001b[0m\u001b[0;34m:\u001b[0m\u001b[0;34m\u001b[0m\u001b[0;34m\u001b[0m\u001b[0m\n\u001b[0;32m---> 10\u001b[0;31m     \u001b[0mY_train_one_hot\u001b[0m \u001b[0;34m=\u001b[0m \u001b[0msess\u001b[0m\u001b[0;34m.\u001b[0m\u001b[0mrun\u001b[0m\u001b[0;34m(\u001b[0m\u001b[0monehot\u001b[0m\u001b[0;34m,\u001b[0m \u001b[0mfeed_dict\u001b[0m\u001b[0;34m=\u001b[0m\u001b[0;34m{\u001b[0m\u001b[0minput\u001b[0m\u001b[0;34m:\u001b[0m \u001b[0mY_train\u001b[0m\u001b[0;34m}\u001b[0m\u001b[0;34m)\u001b[0m\u001b[0;34m\u001b[0m\u001b[0;34m\u001b[0m\u001b[0m\n\u001b[0m\u001b[1;32m     11\u001b[0m \u001b[0;32mwith\u001b[0m \u001b[0mtf\u001b[0m\u001b[0;34m.\u001b[0m\u001b[0mcompat\u001b[0m\u001b[0;34m.\u001b[0m\u001b[0mv1\u001b[0m\u001b[0;34m.\u001b[0m\u001b[0mSession\u001b[0m\u001b[0;34m(\u001b[0m\u001b[0;34m)\u001b[0m \u001b[0;32mas\u001b[0m \u001b[0msess\u001b[0m\u001b[0;34m:\u001b[0m\u001b[0;34m\u001b[0m\u001b[0;34m\u001b[0m\u001b[0m\n\u001b[1;32m     12\u001b[0m     \u001b[0mY_test_one_hot\u001b[0m \u001b[0;34m=\u001b[0m \u001b[0msess\u001b[0m\u001b[0;34m.\u001b[0m\u001b[0mrun\u001b[0m\u001b[0;34m(\u001b[0m\u001b[0monehot\u001b[0m\u001b[0;34m,\u001b[0m \u001b[0mfeed_dict\u001b[0m\u001b[0;34m=\u001b[0m\u001b[0;34m{\u001b[0m\u001b[0minput\u001b[0m\u001b[0;34m:\u001b[0m \u001b[0mY_test\u001b[0m\u001b[0;34m}\u001b[0m\u001b[0;34m)\u001b[0m\u001b[0;34m\u001b[0m\u001b[0;34m\u001b[0m\u001b[0m\n",
            "\u001b[0;31mNameError\u001b[0m: name 'Y_train' is not defined"
          ]
        }
      ]
    },
    {
      "cell_type": "code",
      "metadata": {
        "id": "jf1Tod_xyBAd"
      },
      "source": [
        "# from sklearn.utils import shuffle\n",
        "# X_train, Y_train_one_hot = shuffle(X_train, Y_train_one_hot)\n",
        "# X_test, Y_test_one_hot = shuffle(X_test, Y_test_one_hot)"
      ],
      "execution_count": null,
      "outputs": []
    },
    {
      "cell_type": "markdown",
      "metadata": {
        "id": "N6PmqwnJ8j22"
      },
      "source": [
        "# Image Preprocessing"
      ]
    },
    {
      "cell_type": "code",
      "metadata": {
        "id": "3l5EaSnFGayx"
      },
      "source": [
        "import os\n",
        "import tensorflow as tf\n",
        "from pathlib import Path\n",
        "import glob\n",
        "import numpy as np\n",
        "AUTOTUNE = tf.data.experimental.AUTOTUNE"
      ],
      "execution_count": null,
      "outputs": []
    },
    {
      "cell_type": "markdown",
      "metadata": {
        "id": "SBbHwtacvvCC"
      },
      "source": [
        "## Remove Outliers\n",
        "Some helpr functions:"
      ]
    },
    {
      "cell_type": "code",
      "metadata": {
        "id": "bYnMr_HTvyLd",
        "outputId": "17f3e1fc-fcd2-49fb-9cb0-5608ff5e3975",
        "colab": {
          "base_uri": "https://localhost:8080/",
          "height": 34
        }
      },
      "source": [
        "# I changed some layers here so that the final output will have the same output size as our images - 150x150x3\n",
        "\n",
        "from keras.layers import Input, Dense, Conv2D, MaxPooling2D, UpSampling2D\n",
        "from keras.models import Model\n",
        "from keras import backend as K\n",
        "\n",
        "def decode_images_using_existing_model_weights(dataset,weights_path = '/weights/Auto-Encoders.ckpt'):\n",
        "  \"\"\"Recives a numpy dataset, returns a decoded dataset using the pre-trained \n",
        "  auto-enocder weights\"\"\"\n",
        "  # Create the CV for decoding\n",
        "  input_img = Input(shape=(128, 128, 3))  # adapt this if using `channels_first` image data format\n",
        "  x = Conv2D(16, (3, 3), activation='relu', padding='same')(input_img)\n",
        "  x = MaxPooling2D((2, 2), padding='same')(x)\n",
        "  x = Conv2D(8, (3, 3), activation='relu', padding='same')(x)\n",
        "  #x = MaxPooling2D((2, 2), padding='same')(x)\n",
        "  x = Conv2D(8, (3, 3), activation='relu', padding='same')(x)\n",
        "  encoded = MaxPooling2D((2, 2), padding='same')(x)\n",
        "  # at this point the representation is (4, 4, 8) i.e. 128-dimensional\n",
        "  x = Conv2D(8, (3, 3), activation='relu', padding='same')(encoded)\n",
        "  x = UpSampling2D((2, 2))(x)\n",
        "  x = Conv2D(8, (3, 3), activation='relu', padding='same')(x)\n",
        "  x = UpSampling2D((2, 2))(x)\n",
        "  x = Conv2D(16, (3, 3), activation='relu')(x)\n",
        "  #x = UpSampling2D((2, 2))(x)\n",
        "  decoded = Conv2D(3, (3, 3), activation='sigmoid', padding='same')(x)\n",
        "  autoencoder = Model(input_img, decoded)\n",
        "  autoencoder.compile(optimizer='adadelta', loss='binary_crossentropy')#, metrics=['accuracy'])\n",
        "  autoencoder.summary()\n",
        "\n",
        "  # load weights\n",
        "  checkpoint_filepath = path_model + weights_path\n",
        "  autoencoder.load_weights(checkpoint_filepath)\n",
        "  return autoencoder.predict(dataset)\n",
        "\n",
        "def clean_dataset_from_outlier(dataset, decoded_dataset, outlier_threshold=0.99):\n",
        "  \"\"\"Receives the origionl and the autoencoded numpy dataset, return cleaned dataset\n",
        "  without (default) 1% of images which are least similair to their decoded\n",
        "  image, and the indices for the outliers.\"\"\"\n",
        "  squred_error = np.power(X_train - decoded_dataset, 2)\n",
        "  channel_ax = 3\n",
        "  width_ax = 1\n",
        "  height_ax = 1\n",
        "  mse = np.mean(np.mean(squred_error,axis=(channel_ax,width_ax)),axis=height_ax)\n",
        "  mse_anomally_threshold = np.quantile(mse, outlier_threshold)\n",
        "  outliers_idx = np.where(mse > mse_anomally_threshold)\n",
        "  inliners_idx = np.where(mse <= mse_anomally_threshold)\n",
        "  return dataset[inliners_idx], outliers_idx[0]\n",
        "\n",
        "def show_origional_and_decoded(origional,decoded, n=5, show_decoded=True):\n",
        "  'Show random n images and their decoded images'\n",
        "  n+=1\n",
        "  images_index = np.random.choice(len(origional),n)\n",
        "  plt.figure(figsize=(20, 5))\n",
        "  for i in range(1,n):\n",
        "      ax = plt.subplot(1, n, i)\n",
        "      plt.imshow(origional[images_index[i]])\n",
        "      #plt.gray()\n",
        "      ax.get_xaxis().set_visible(False)\n",
        "      ax.get_yaxis().set_visible(False)\n",
        "  plt.show()\n",
        "\n",
        "  plt.figure(figsize=(20, 5))\n",
        "\n",
        "  if show_decoded:\n",
        "    for i in range(1,n):\n",
        "        ax = plt.subplot(1, n, i)\n",
        "        plt.imshow(decoded[images_index[i]])\n",
        "        #plt.gray()\n",
        "        ax.get_xaxis().set_visible(False)\n",
        "        ax.get_yaxis().set_visible(False)\n",
        "    plt.show()"
      ],
      "execution_count": null,
      "outputs": [
        {
          "output_type": "stream",
          "text": [
            "Using TensorFlow backend.\n"
          ],
          "name": "stderr"
        }
      ]
    },
    {
      "cell_type": "markdown",
      "metadata": {
        "id": "QoknyEzrwyy-"
      },
      "source": [
        "* Uncomment the last line for cleaning a numpy dataset of images from outliers (using a threshold of percentage of outliers images).\n",
        "* Uncomment the two lines before for getting the decoded datasets - more gerneralized form of the photos, which might remove outliers pixels."
      ]
    },
    {
      "cell_type": "code",
      "metadata": {
        "id": "mdObOp69we5F",
        "outputId": "c1b6f8b0-3dfa-476c-8160-011767ae3fd2",
        "colab": {
          "base_uri": "https://localhost:8080/",
          "height": 240
        }
      },
      "source": [
        "def remove_outliers(numpy_dataset, outlier_threshold=0.99):\n",
        "  'Recievs a numpy dataset, return the cleand dataset and the indices of outliers'\n",
        "  decoded_imgs = decode_images_using_existing_model_weights(numpy_dataset)\n",
        "  cleaned_dataset, outliers_idx = clean_dataset_from_outlier(numpy_dataset, decoded_imgs,outlier_threshold=0.98)\n",
        "  return cleaned_dataset, outliers_idx\n",
        "\n",
        "decoded_imgs = decode_images_using_existing_model_weights(X_train)\n",
        "show_origional_and_decoded(X_train,decoded_imgs, n=5)\n",
        "\n",
        "X_train_cleaned, outlier_idx = remove_outliers(X_train, outlier_threshold=0.99)"
      ],
      "execution_count": null,
      "outputs": [
        {
          "output_type": "error",
          "ename": "NameError",
          "evalue": "ignored",
          "traceback": [
            "\u001b[0;31m---------------------------------------------------------------------------\u001b[0m",
            "\u001b[0;31mNameError\u001b[0m                                 Traceback (most recent call last)",
            "\u001b[0;32m<ipython-input-15-6ea61cf7297a>\u001b[0m in \u001b[0;36m<module>\u001b[0;34m()\u001b[0m\n\u001b[1;32m      5\u001b[0m   \u001b[0;32mreturn\u001b[0m \u001b[0mcleaned_dataset\u001b[0m\u001b[0;34m,\u001b[0m \u001b[0moutliers_idx\u001b[0m\u001b[0;34m\u001b[0m\u001b[0;34m\u001b[0m\u001b[0m\n\u001b[1;32m      6\u001b[0m \u001b[0;34m\u001b[0m\u001b[0m\n\u001b[0;32m----> 7\u001b[0;31m \u001b[0mdecoded_imgs\u001b[0m \u001b[0;34m=\u001b[0m \u001b[0mdecode_images_using_existing_model_weights\u001b[0m\u001b[0;34m(\u001b[0m\u001b[0mX_train\u001b[0m\u001b[0;34m)\u001b[0m\u001b[0;34m\u001b[0m\u001b[0;34m\u001b[0m\u001b[0m\n\u001b[0m\u001b[1;32m      8\u001b[0m \u001b[0mshow_origional_and_decoded\u001b[0m\u001b[0;34m(\u001b[0m\u001b[0mX_train\u001b[0m\u001b[0;34m,\u001b[0m\u001b[0mdecoded_imgs\u001b[0m\u001b[0;34m,\u001b[0m \u001b[0mn\u001b[0m\u001b[0;34m=\u001b[0m\u001b[0;36m5\u001b[0m\u001b[0;34m)\u001b[0m\u001b[0;34m\u001b[0m\u001b[0;34m\u001b[0m\u001b[0m\n\u001b[1;32m      9\u001b[0m \u001b[0;34m\u001b[0m\u001b[0m\n",
            "\u001b[0;31mNameError\u001b[0m: name 'X_train' is not defined"
          ]
        }
      ]
    },
    {
      "cell_type": "markdown",
      "metadata": {
        "id": "AudqqPA1mmg-"
      },
      "source": [
        "## Set image and batch size"
      ]
    },
    {
      "cell_type": "code",
      "metadata": {
        "id": "b2UaWCWGHXvy"
      },
      "source": [
        "IMG_WIDTH = 96\n",
        "IMG_HEIGHT = 96\n",
        "BATCH_SIZE = 512"
      ],
      "execution_count": null,
      "outputs": []
    },
    {
      "cell_type": "code",
      "metadata": {
        "id": "PgjjSbgtGb2p"
      },
      "source": [
        "train_dir = Path(\"./train\")\n",
        "val_dir = Path(\"./val\")\n",
        "test_dir = Path(\"./test\")"
      ],
      "execution_count": null,
      "outputs": []
    },
    {
      "cell_type": "code",
      "metadata": {
        "id": "jx53ZlMV2-dA",
        "outputId": "067a234e-2591-4c62-8033-6f16161b70e7",
        "colab": {
          "base_uri": "https://localhost:8080/",
          "height": 87
        }
      },
      "source": [
        "CLASS_NAMES = np.array([item.name for item in train_dir.glob('*')])\n",
        "CLASS_NAMES"
      ],
      "execution_count": null,
      "outputs": [
        {
          "output_type": "execute_result",
          "data": {
            "text/plain": [
              "array(['goa', 'boston', 'berlin', 'helsinki', 'phoenix', 'toronto',\n",
              "       'saopaulo', 'austin', 'paris', 'moscow', 'sf', 'cph', 'amsterdam',\n",
              "       'budapest', 'bangkok', 'tokyo', 'manila', 'ottawa', 'melbourne'],\n",
              "      dtype='<U9')"
            ]
          },
          "metadata": {
            "tags": []
          },
          "execution_count": 18
        }
      ]
    },
    {
      "cell_type": "code",
      "metadata": {
        "id": "kXPX69-k2_hi",
        "outputId": "8d68fe5e-6735-440f-b9c0-ed357bc011c7",
        "colab": {
          "base_uri": "https://localhost:8080/",
          "height": 34
        }
      },
      "source": [
        "train_image_count = len(list(train_dir.glob('*/*.jpg')))\n",
        "val_image_count = len(list(val_dir.glob('*/*.jpg')))\n",
        "test_image_count = len(list(test_dir.glob('*/*.jpg')))\n",
        "train_image_count,val_image_count,test_image_count"
      ],
      "execution_count": null,
      "outputs": [
        {
          "output_type": "execute_result",
          "data": {
            "text/plain": [
              "(117810, 36091, 36099)"
            ]
          },
          "metadata": {
            "tags": []
          },
          "execution_count": 19
        }
      ]
    },
    {
      "cell_type": "markdown",
      "metadata": {
        "id": "qURaZHZ9ngIH"
      },
      "source": [
        "## Cached processing \\ tf.data.Dataset"
      ]
    },
    {
      "cell_type": "code",
      "metadata": {
        "id": "FuVDcCppGjOU"
      },
      "source": [
        "list_train = tf.data.Dataset.list_files(str(train_dir/\"*/*\"))\n",
        "list_val = tf.data.Dataset.list_files(str(val_dir/\"*/*\"))\n",
        "list_test = tf.data.Dataset.list_files(str(test_dir/\"*/*\"),shuffle=False)"
      ],
      "execution_count": null,
      "outputs": []
    },
    {
      "cell_type": "code",
      "metadata": {
        "id": "0xuwBSznnQt2"
      },
      "source": [
        "def get_label(file_path):\n",
        "  # convert the path to a list of path components\n",
        "  parts = tf.strings.split(file_path, os.path.sep)\n",
        "  # The second to last is the class-directory\n",
        "  return parts[-2] == CLASS_NAMES\n",
        "\n",
        "def decode_img(img):\n",
        "  # convert the compressed string to a 3D uint8 tensor\n",
        "  img = tf.image.decode_jpeg(img, channels=3)\n",
        "  # Use `convert_image_dtype` to convert to floats in the [0,1] range.\n",
        "  img = tf.image.convert_image_dtype(img, tf.float32)\n",
        "  # resize the image to the desired size.\n",
        "  return tf.image.resize(img, [IMG_WIDTH, IMG_HEIGHT])\n",
        "\n",
        "def process_path(file_path):\n",
        "  label = get_label(file_path)\n",
        "  # load the raw data from the file as a string\n",
        "  img = tf.io.read_file(file_path)\n",
        "  img = decode_img(img)\n",
        "  return img, label"
      ],
      "execution_count": null,
      "outputs": []
    },
    {
      "cell_type": "code",
      "metadata": {
        "id": "ow0baCsHGjSc"
      },
      "source": [
        "def augment(image,label):\n",
        "  # image,label = convert(image, label)\n",
        "  image = tf.image.convert_image_dtype(image, tf.float32) # Cast and normalize the image to [0,1]\n",
        "  image = tf.image.resize_with_crop_or_pad(image, int(IMG_WIDTH*1.2), int(IMG_HEIGHT*1.2)) # Add 6 pixels of padding\n",
        "  image = tf.image.random_crop(image, size=[BATCH_SIZE,IMG_WIDTH, IMG_HEIGHT, 3]) # Random crop back to 28x28\n",
        "  image = tf.image.random_brightness(image, max_delta=0.5) # Random brightness\n",
        "  # image = tf.image.rot90(image,tf.random.uniform(shape=[], minval=0, maxval=4, dtype=tf.int32))\n",
        "\n",
        "  return image,label"
      ],
      "execution_count": null,
      "outputs": []
    },
    {
      "cell_type": "code",
      "metadata": {
        "id": "vWgYOwjDGjQV"
      },
      "source": [
        "def prepare_for_training(ds, aug=False, cache=False, shuffle_buffer_size=1000):\n",
        "  # This is a small dataset, only load it once, and keep it in memory.\n",
        "  # use `.cache(filename)` to cache preprocessing work for datasets that don't\n",
        "  # fit in memory.\n",
        "  if cache:\n",
        "    if isinstance(cache, str):\n",
        "      ds = ds.cache(cache)\n",
        "    else:\n",
        "      ds = ds.cache()\n",
        "\n",
        "  ds = ds.shuffle(buffer_size=shuffle_buffer_size)\n",
        "\n",
        "  # Repeat forever\n",
        "  ds = ds.repeat()\n",
        "\n",
        "  ds = ds.batch(BATCH_SIZE)\n",
        "\n",
        "  if aug:\n",
        "    ds = ds.map(augment, num_parallel_calls=AUTOTUNE)\n",
        "\n",
        "  # `prefetch` lets the dataset fetch batches in the background while the model\n",
        "  # is training.\n",
        "  ds = ds.prefetch(buffer_size=AUTOTUNE)\n",
        "\n",
        "  return ds"
      ],
      "execution_count": null,
      "outputs": []
    },
    {
      "cell_type": "code",
      "metadata": {
        "id": "enXfsat23TmX"
      },
      "source": [
        "# Use Dataset.map to create a dataset of image, label pairs:\n",
        "# Set `num_parallel_calls` so multiple images are loaded/processed in parallel.\n",
        "labeled_train = list_train.map(process_path, num_parallel_calls=AUTOTUNE)\n",
        "labeled_val = list_val.map(process_path, num_parallel_calls=AUTOTUNE)\n",
        "labeled_test = list_test.map(process_path, num_parallel_calls=AUTOTUNE)\n",
        "\n",
        "train_dataset = prepare_for_training(labeled_train,aug=True,cache=True)\n",
        "val_dataset = prepare_for_training(labeled_val,cache=True)\n",
        "test_dataset = labeled_test.prefetch(buffer_size=AUTOTUNE)"
      ],
      "execution_count": null,
      "outputs": []
    },
    {
      "cell_type": "code",
      "metadata": {
        "id": "v23x2yrW3WIo"
      },
      "source": [
        "# prepare test_np before intensive ram usage\n",
        "test_np = np.stack(list(test_dataset))"
      ],
      "execution_count": null,
      "outputs": []
    },
    {
      "cell_type": "markdown",
      "metadata": {
        "id": "nZOSE5pZV6Yz"
      },
      "source": [
        "## Augmentation attempt"
      ]
    },
    {
      "cell_type": "markdown",
      "metadata": {
        "id": "lkcNkqdBjj_I"
      },
      "source": [
        "# Build, complie & train"
      ]
    },
    {
      "cell_type": "markdown",
      "metadata": {
        "id": "TrYuAX_s1NyM"
      },
      "source": [
        "# resnet utils:"
      ]
    },
    {
      "cell_type": "code",
      "metadata": {
        "id": "JJfxa7IEyQxt"
      },
      "source": [
        "from tensorflow.keras.applications import ResNet50\n",
        "# ResNet-50 that is a smaller version of ResNet 152 \n",
        "# and frequently used as a starting point for transfer learning."
      ],
      "execution_count": null,
      "outputs": []
    },
    {
      "cell_type": "code",
      "metadata": {
        "id": "QK0jFgF9z2os"
      },
      "source": [
        "import pandas as pd\n",
        "import numpy as np \n",
        "import matplotlib.pyplot as plt\n",
        "import os\n",
        "from urllib.request import urlopen,urlretrieve\n",
        "from PIL import Image\n",
        "from tqdm import tqdm_notebook\n",
        "%matplotlib inline\n",
        "from sklearn.utils import shuffle\n",
        "import cv2\n",
        "from keras.models import load_model\n",
        "from sklearn.datasets import load_files   \n",
        "from keras.utils import np_utils\n",
        "from glob import glob\n",
        "from tensorflow.keras import applications\n",
        "from tensorflow.keras.preprocessing.image import ImageDataGenerator \n",
        "from tensorflow.keras import optimizers\n",
        "from tensorflow.keras.models import Sequential,Model,load_model\n",
        "from tensorflow.keras.layers import Dense, Dropout, Flatten, Conv2D, MaxPool2D,GlobalAveragePooling2D\n",
        "from tensorflow.keras.callbacks import TensorBoard,ReduceLROnPlateau,ModelCheckpoint"
      ],
      "execution_count": null,
      "outputs": []
    },
    {
      "cell_type": "code",
      "metadata": {
        "id": "xd487cTD3Lfb",
        "outputId": "ee6e1d16-13cc-45ea-ea7f-df5f5b48549d",
        "colab": {
          "base_uri": "https://localhost:8080/",
          "height": 34
        }
      },
      "source": [
        "from tensorflow.keras.callbacks import ModelCheckpoint, EarlyStopping\n",
        "# set checkpoint:\n",
        "checkpoint_filepath = path_model + '/weights/ResNet19.ckpt'\n",
        "model_cp_cb = ModelCheckpoint(\n",
        "    filepath=checkpoint_filepath,\n",
        "    save_weights_only=True,\n",
        "    monitor='val_accuracy',\n",
        "    save_best_only=True)\n",
        "checkpoint_filepath"
      ],
      "execution_count": null,
      "outputs": [
        {
          "output_type": "execute_result",
          "data": {
            "text/plain": [
              "'/content/gdrive/My Drive/adidas/02-model/weights/ResNet19.ckpt'"
            ]
          },
          "metadata": {
            "tags": []
          },
          "execution_count": 28
        }
      ]
    },
    {
      "cell_type": "code",
      "metadata": {
        "id": "KvuNtc33yCKF"
      },
      "source": [
        "num_classes = 19\n",
        "base_model = ResNet50(weights= None, \n",
        "                      include_top=False, \n",
        "                      input_shape=(IMG_HEIGHT,IMG_WIDTH,3))"
      ],
      "execution_count": null,
      "outputs": []
    },
    {
      "cell_type": "code",
      "metadata": {
        "id": "XdDxG_HD0IW5"
      },
      "source": [
        "x = base_model.output\n",
        "x = GlobalAveragePooling2D()(x)\n",
        "x = Dropout(0.7)(x)\n",
        "predictions = Dense(num_classes, activation= 'softmax')(x)\n",
        "model = Model(inputs = base_model.input, outputs = predictions)"
      ],
      "execution_count": null,
      "outputs": []
    },
    {
      "cell_type": "code",
      "metadata": {
        "id": "KdZsFaf6_ZFO",
        "outputId": "28443665-cbc2-41fe-ca75-51dee973da1b",
        "colab": {
          "base_uri": "https://localhost:8080/",
          "height": 1000
        }
      },
      "source": [
        "model.summary()"
      ],
      "execution_count": null,
      "outputs": [
        {
          "output_type": "stream",
          "text": [
            "Model: \"model\"\n",
            "__________________________________________________________________________________________________\n",
            "Layer (type)                    Output Shape         Param #     Connected to                     \n",
            "==================================================================================================\n",
            "input_1 (InputLayer)            [(None, 96, 96, 3)]  0                                            \n",
            "__________________________________________________________________________________________________\n",
            "conv1_pad (ZeroPadding2D)       (None, 102, 102, 3)  0           input_1[0][0]                    \n",
            "__________________________________________________________________________________________________\n",
            "conv1_conv (Conv2D)             (None, 48, 48, 64)   9472        conv1_pad[0][0]                  \n",
            "__________________________________________________________________________________________________\n",
            "conv1_bn (BatchNormalization)   (None, 48, 48, 64)   256         conv1_conv[0][0]                 \n",
            "__________________________________________________________________________________________________\n",
            "conv1_relu (Activation)         (None, 48, 48, 64)   0           conv1_bn[0][0]                   \n",
            "__________________________________________________________________________________________________\n",
            "pool1_pad (ZeroPadding2D)       (None, 50, 50, 64)   0           conv1_relu[0][0]                 \n",
            "__________________________________________________________________________________________________\n",
            "pool1_pool (MaxPooling2D)       (None, 24, 24, 64)   0           pool1_pad[0][0]                  \n",
            "__________________________________________________________________________________________________\n",
            "conv2_block1_1_conv (Conv2D)    (None, 24, 24, 64)   4160        pool1_pool[0][0]                 \n",
            "__________________________________________________________________________________________________\n",
            "conv2_block1_1_bn (BatchNormali (None, 24, 24, 64)   256         conv2_block1_1_conv[0][0]        \n",
            "__________________________________________________________________________________________________\n",
            "conv2_block1_1_relu (Activation (None, 24, 24, 64)   0           conv2_block1_1_bn[0][0]          \n",
            "__________________________________________________________________________________________________\n",
            "conv2_block1_2_conv (Conv2D)    (None, 24, 24, 64)   36928       conv2_block1_1_relu[0][0]        \n",
            "__________________________________________________________________________________________________\n",
            "conv2_block1_2_bn (BatchNormali (None, 24, 24, 64)   256         conv2_block1_2_conv[0][0]        \n",
            "__________________________________________________________________________________________________\n",
            "conv2_block1_2_relu (Activation (None, 24, 24, 64)   0           conv2_block1_2_bn[0][0]          \n",
            "__________________________________________________________________________________________________\n",
            "conv2_block1_0_conv (Conv2D)    (None, 24, 24, 256)  16640       pool1_pool[0][0]                 \n",
            "__________________________________________________________________________________________________\n",
            "conv2_block1_3_conv (Conv2D)    (None, 24, 24, 256)  16640       conv2_block1_2_relu[0][0]        \n",
            "__________________________________________________________________________________________________\n",
            "conv2_block1_0_bn (BatchNormali (None, 24, 24, 256)  1024        conv2_block1_0_conv[0][0]        \n",
            "__________________________________________________________________________________________________\n",
            "conv2_block1_3_bn (BatchNormali (None, 24, 24, 256)  1024        conv2_block1_3_conv[0][0]        \n",
            "__________________________________________________________________________________________________\n",
            "conv2_block1_add (Add)          (None, 24, 24, 256)  0           conv2_block1_0_bn[0][0]          \n",
            "                                                                 conv2_block1_3_bn[0][0]          \n",
            "__________________________________________________________________________________________________\n",
            "conv2_block1_out (Activation)   (None, 24, 24, 256)  0           conv2_block1_add[0][0]           \n",
            "__________________________________________________________________________________________________\n",
            "conv2_block2_1_conv (Conv2D)    (None, 24, 24, 64)   16448       conv2_block1_out[0][0]           \n",
            "__________________________________________________________________________________________________\n",
            "conv2_block2_1_bn (BatchNormali (None, 24, 24, 64)   256         conv2_block2_1_conv[0][0]        \n",
            "__________________________________________________________________________________________________\n",
            "conv2_block2_1_relu (Activation (None, 24, 24, 64)   0           conv2_block2_1_bn[0][0]          \n",
            "__________________________________________________________________________________________________\n",
            "conv2_block2_2_conv (Conv2D)    (None, 24, 24, 64)   36928       conv2_block2_1_relu[0][0]        \n",
            "__________________________________________________________________________________________________\n",
            "conv2_block2_2_bn (BatchNormali (None, 24, 24, 64)   256         conv2_block2_2_conv[0][0]        \n",
            "__________________________________________________________________________________________________\n",
            "conv2_block2_2_relu (Activation (None, 24, 24, 64)   0           conv2_block2_2_bn[0][0]          \n",
            "__________________________________________________________________________________________________\n",
            "conv2_block2_3_conv (Conv2D)    (None, 24, 24, 256)  16640       conv2_block2_2_relu[0][0]        \n",
            "__________________________________________________________________________________________________\n",
            "conv2_block2_3_bn (BatchNormali (None, 24, 24, 256)  1024        conv2_block2_3_conv[0][0]        \n",
            "__________________________________________________________________________________________________\n",
            "conv2_block2_add (Add)          (None, 24, 24, 256)  0           conv2_block1_out[0][0]           \n",
            "                                                                 conv2_block2_3_bn[0][0]          \n",
            "__________________________________________________________________________________________________\n",
            "conv2_block2_out (Activation)   (None, 24, 24, 256)  0           conv2_block2_add[0][0]           \n",
            "__________________________________________________________________________________________________\n",
            "conv2_block3_1_conv (Conv2D)    (None, 24, 24, 64)   16448       conv2_block2_out[0][0]           \n",
            "__________________________________________________________________________________________________\n",
            "conv2_block3_1_bn (BatchNormali (None, 24, 24, 64)   256         conv2_block3_1_conv[0][0]        \n",
            "__________________________________________________________________________________________________\n",
            "conv2_block3_1_relu (Activation (None, 24, 24, 64)   0           conv2_block3_1_bn[0][0]          \n",
            "__________________________________________________________________________________________________\n",
            "conv2_block3_2_conv (Conv2D)    (None, 24, 24, 64)   36928       conv2_block3_1_relu[0][0]        \n",
            "__________________________________________________________________________________________________\n",
            "conv2_block3_2_bn (BatchNormali (None, 24, 24, 64)   256         conv2_block3_2_conv[0][0]        \n",
            "__________________________________________________________________________________________________\n",
            "conv2_block3_2_relu (Activation (None, 24, 24, 64)   0           conv2_block3_2_bn[0][0]          \n",
            "__________________________________________________________________________________________________\n",
            "conv2_block3_3_conv (Conv2D)    (None, 24, 24, 256)  16640       conv2_block3_2_relu[0][0]        \n",
            "__________________________________________________________________________________________________\n",
            "conv2_block3_3_bn (BatchNormali (None, 24, 24, 256)  1024        conv2_block3_3_conv[0][0]        \n",
            "__________________________________________________________________________________________________\n",
            "conv2_block3_add (Add)          (None, 24, 24, 256)  0           conv2_block2_out[0][0]           \n",
            "                                                                 conv2_block3_3_bn[0][0]          \n",
            "__________________________________________________________________________________________________\n",
            "conv2_block3_out (Activation)   (None, 24, 24, 256)  0           conv2_block3_add[0][0]           \n",
            "__________________________________________________________________________________________________\n",
            "conv3_block1_1_conv (Conv2D)    (None, 12, 12, 128)  32896       conv2_block3_out[0][0]           \n",
            "__________________________________________________________________________________________________\n",
            "conv3_block1_1_bn (BatchNormali (None, 12, 12, 128)  512         conv3_block1_1_conv[0][0]        \n",
            "__________________________________________________________________________________________________\n",
            "conv3_block1_1_relu (Activation (None, 12, 12, 128)  0           conv3_block1_1_bn[0][0]          \n",
            "__________________________________________________________________________________________________\n",
            "conv3_block1_2_conv (Conv2D)    (None, 12, 12, 128)  147584      conv3_block1_1_relu[0][0]        \n",
            "__________________________________________________________________________________________________\n",
            "conv3_block1_2_bn (BatchNormali (None, 12, 12, 128)  512         conv3_block1_2_conv[0][0]        \n",
            "__________________________________________________________________________________________________\n",
            "conv3_block1_2_relu (Activation (None, 12, 12, 128)  0           conv3_block1_2_bn[0][0]          \n",
            "__________________________________________________________________________________________________\n",
            "conv3_block1_0_conv (Conv2D)    (None, 12, 12, 512)  131584      conv2_block3_out[0][0]           \n",
            "__________________________________________________________________________________________________\n",
            "conv3_block1_3_conv (Conv2D)    (None, 12, 12, 512)  66048       conv3_block1_2_relu[0][0]        \n",
            "__________________________________________________________________________________________________\n",
            "conv3_block1_0_bn (BatchNormali (None, 12, 12, 512)  2048        conv3_block1_0_conv[0][0]        \n",
            "__________________________________________________________________________________________________\n",
            "conv3_block1_3_bn (BatchNormali (None, 12, 12, 512)  2048        conv3_block1_3_conv[0][0]        \n",
            "__________________________________________________________________________________________________\n",
            "conv3_block1_add (Add)          (None, 12, 12, 512)  0           conv3_block1_0_bn[0][0]          \n",
            "                                                                 conv3_block1_3_bn[0][0]          \n",
            "__________________________________________________________________________________________________\n",
            "conv3_block1_out (Activation)   (None, 12, 12, 512)  0           conv3_block1_add[0][0]           \n",
            "__________________________________________________________________________________________________\n",
            "conv3_block2_1_conv (Conv2D)    (None, 12, 12, 128)  65664       conv3_block1_out[0][0]           \n",
            "__________________________________________________________________________________________________\n",
            "conv3_block2_1_bn (BatchNormali (None, 12, 12, 128)  512         conv3_block2_1_conv[0][0]        \n",
            "__________________________________________________________________________________________________\n",
            "conv3_block2_1_relu (Activation (None, 12, 12, 128)  0           conv3_block2_1_bn[0][0]          \n",
            "__________________________________________________________________________________________________\n",
            "conv3_block2_2_conv (Conv2D)    (None, 12, 12, 128)  147584      conv3_block2_1_relu[0][0]        \n",
            "__________________________________________________________________________________________________\n",
            "conv3_block2_2_bn (BatchNormali (None, 12, 12, 128)  512         conv3_block2_2_conv[0][0]        \n",
            "__________________________________________________________________________________________________\n",
            "conv3_block2_2_relu (Activation (None, 12, 12, 128)  0           conv3_block2_2_bn[0][0]          \n",
            "__________________________________________________________________________________________________\n",
            "conv3_block2_3_conv (Conv2D)    (None, 12, 12, 512)  66048       conv3_block2_2_relu[0][0]        \n",
            "__________________________________________________________________________________________________\n",
            "conv3_block2_3_bn (BatchNormali (None, 12, 12, 512)  2048        conv3_block2_3_conv[0][0]        \n",
            "__________________________________________________________________________________________________\n",
            "conv3_block2_add (Add)          (None, 12, 12, 512)  0           conv3_block1_out[0][0]           \n",
            "                                                                 conv3_block2_3_bn[0][0]          \n",
            "__________________________________________________________________________________________________\n",
            "conv3_block2_out (Activation)   (None, 12, 12, 512)  0           conv3_block2_add[0][0]           \n",
            "__________________________________________________________________________________________________\n",
            "conv3_block3_1_conv (Conv2D)    (None, 12, 12, 128)  65664       conv3_block2_out[0][0]           \n",
            "__________________________________________________________________________________________________\n",
            "conv3_block3_1_bn (BatchNormali (None, 12, 12, 128)  512         conv3_block3_1_conv[0][0]        \n",
            "__________________________________________________________________________________________________\n",
            "conv3_block3_1_relu (Activation (None, 12, 12, 128)  0           conv3_block3_1_bn[0][0]          \n",
            "__________________________________________________________________________________________________\n",
            "conv3_block3_2_conv (Conv2D)    (None, 12, 12, 128)  147584      conv3_block3_1_relu[0][0]        \n",
            "__________________________________________________________________________________________________\n",
            "conv3_block3_2_bn (BatchNormali (None, 12, 12, 128)  512         conv3_block3_2_conv[0][0]        \n",
            "__________________________________________________________________________________________________\n",
            "conv3_block3_2_relu (Activation (None, 12, 12, 128)  0           conv3_block3_2_bn[0][0]          \n",
            "__________________________________________________________________________________________________\n",
            "conv3_block3_3_conv (Conv2D)    (None, 12, 12, 512)  66048       conv3_block3_2_relu[0][0]        \n",
            "__________________________________________________________________________________________________\n",
            "conv3_block3_3_bn (BatchNormali (None, 12, 12, 512)  2048        conv3_block3_3_conv[0][0]        \n",
            "__________________________________________________________________________________________________\n",
            "conv3_block3_add (Add)          (None, 12, 12, 512)  0           conv3_block2_out[0][0]           \n",
            "                                                                 conv3_block3_3_bn[0][0]          \n",
            "__________________________________________________________________________________________________\n",
            "conv3_block3_out (Activation)   (None, 12, 12, 512)  0           conv3_block3_add[0][0]           \n",
            "__________________________________________________________________________________________________\n",
            "conv3_block4_1_conv (Conv2D)    (None, 12, 12, 128)  65664       conv3_block3_out[0][0]           \n",
            "__________________________________________________________________________________________________\n",
            "conv3_block4_1_bn (BatchNormali (None, 12, 12, 128)  512         conv3_block4_1_conv[0][0]        \n",
            "__________________________________________________________________________________________________\n",
            "conv3_block4_1_relu (Activation (None, 12, 12, 128)  0           conv3_block4_1_bn[0][0]          \n",
            "__________________________________________________________________________________________________\n",
            "conv3_block4_2_conv (Conv2D)    (None, 12, 12, 128)  147584      conv3_block4_1_relu[0][0]        \n",
            "__________________________________________________________________________________________________\n",
            "conv3_block4_2_bn (BatchNormali (None, 12, 12, 128)  512         conv3_block4_2_conv[0][0]        \n",
            "__________________________________________________________________________________________________\n",
            "conv3_block4_2_relu (Activation (None, 12, 12, 128)  0           conv3_block4_2_bn[0][0]          \n",
            "__________________________________________________________________________________________________\n",
            "conv3_block4_3_conv (Conv2D)    (None, 12, 12, 512)  66048       conv3_block4_2_relu[0][0]        \n",
            "__________________________________________________________________________________________________\n",
            "conv3_block4_3_bn (BatchNormali (None, 12, 12, 512)  2048        conv3_block4_3_conv[0][0]        \n",
            "__________________________________________________________________________________________________\n",
            "conv3_block4_add (Add)          (None, 12, 12, 512)  0           conv3_block3_out[0][0]           \n",
            "                                                                 conv3_block4_3_bn[0][0]          \n",
            "__________________________________________________________________________________________________\n",
            "conv3_block4_out (Activation)   (None, 12, 12, 512)  0           conv3_block4_add[0][0]           \n",
            "__________________________________________________________________________________________________\n",
            "conv4_block1_1_conv (Conv2D)    (None, 6, 6, 256)    131328      conv3_block4_out[0][0]           \n",
            "__________________________________________________________________________________________________\n",
            "conv4_block1_1_bn (BatchNormali (None, 6, 6, 256)    1024        conv4_block1_1_conv[0][0]        \n",
            "__________________________________________________________________________________________________\n",
            "conv4_block1_1_relu (Activation (None, 6, 6, 256)    0           conv4_block1_1_bn[0][0]          \n",
            "__________________________________________________________________________________________________\n",
            "conv4_block1_2_conv (Conv2D)    (None, 6, 6, 256)    590080      conv4_block1_1_relu[0][0]        \n",
            "__________________________________________________________________________________________________\n",
            "conv4_block1_2_bn (BatchNormali (None, 6, 6, 256)    1024        conv4_block1_2_conv[0][0]        \n",
            "__________________________________________________________________________________________________\n",
            "conv4_block1_2_relu (Activation (None, 6, 6, 256)    0           conv4_block1_2_bn[0][0]          \n",
            "__________________________________________________________________________________________________\n",
            "conv4_block1_0_conv (Conv2D)    (None, 6, 6, 1024)   525312      conv3_block4_out[0][0]           \n",
            "__________________________________________________________________________________________________\n",
            "conv4_block1_3_conv (Conv2D)    (None, 6, 6, 1024)   263168      conv4_block1_2_relu[0][0]        \n",
            "__________________________________________________________________________________________________\n",
            "conv4_block1_0_bn (BatchNormali (None, 6, 6, 1024)   4096        conv4_block1_0_conv[0][0]        \n",
            "__________________________________________________________________________________________________\n",
            "conv4_block1_3_bn (BatchNormali (None, 6, 6, 1024)   4096        conv4_block1_3_conv[0][0]        \n",
            "__________________________________________________________________________________________________\n",
            "conv4_block1_add (Add)          (None, 6, 6, 1024)   0           conv4_block1_0_bn[0][0]          \n",
            "                                                                 conv4_block1_3_bn[0][0]          \n",
            "__________________________________________________________________________________________________\n",
            "conv4_block1_out (Activation)   (None, 6, 6, 1024)   0           conv4_block1_add[0][0]           \n",
            "__________________________________________________________________________________________________\n",
            "conv4_block2_1_conv (Conv2D)    (None, 6, 6, 256)    262400      conv4_block1_out[0][0]           \n",
            "__________________________________________________________________________________________________\n",
            "conv4_block2_1_bn (BatchNormali (None, 6, 6, 256)    1024        conv4_block2_1_conv[0][0]        \n",
            "__________________________________________________________________________________________________\n",
            "conv4_block2_1_relu (Activation (None, 6, 6, 256)    0           conv4_block2_1_bn[0][0]          \n",
            "__________________________________________________________________________________________________\n",
            "conv4_block2_2_conv (Conv2D)    (None, 6, 6, 256)    590080      conv4_block2_1_relu[0][0]        \n",
            "__________________________________________________________________________________________________\n",
            "conv4_block2_2_bn (BatchNormali (None, 6, 6, 256)    1024        conv4_block2_2_conv[0][0]        \n",
            "__________________________________________________________________________________________________\n",
            "conv4_block2_2_relu (Activation (None, 6, 6, 256)    0           conv4_block2_2_bn[0][0]          \n",
            "__________________________________________________________________________________________________\n",
            "conv4_block2_3_conv (Conv2D)    (None, 6, 6, 1024)   263168      conv4_block2_2_relu[0][0]        \n",
            "__________________________________________________________________________________________________\n",
            "conv4_block2_3_bn (BatchNormali (None, 6, 6, 1024)   4096        conv4_block2_3_conv[0][0]        \n",
            "__________________________________________________________________________________________________\n",
            "conv4_block2_add (Add)          (None, 6, 6, 1024)   0           conv4_block1_out[0][0]           \n",
            "                                                                 conv4_block2_3_bn[0][0]          \n",
            "__________________________________________________________________________________________________\n",
            "conv4_block2_out (Activation)   (None, 6, 6, 1024)   0           conv4_block2_add[0][0]           \n",
            "__________________________________________________________________________________________________\n",
            "conv4_block3_1_conv (Conv2D)    (None, 6, 6, 256)    262400      conv4_block2_out[0][0]           \n",
            "__________________________________________________________________________________________________\n",
            "conv4_block3_1_bn (BatchNormali (None, 6, 6, 256)    1024        conv4_block3_1_conv[0][0]        \n",
            "__________________________________________________________________________________________________\n",
            "conv4_block3_1_relu (Activation (None, 6, 6, 256)    0           conv4_block3_1_bn[0][0]          \n",
            "__________________________________________________________________________________________________\n",
            "conv4_block3_2_conv (Conv2D)    (None, 6, 6, 256)    590080      conv4_block3_1_relu[0][0]        \n",
            "__________________________________________________________________________________________________\n",
            "conv4_block3_2_bn (BatchNormali (None, 6, 6, 256)    1024        conv4_block3_2_conv[0][0]        \n",
            "__________________________________________________________________________________________________\n",
            "conv4_block3_2_relu (Activation (None, 6, 6, 256)    0           conv4_block3_2_bn[0][0]          \n",
            "__________________________________________________________________________________________________\n",
            "conv4_block3_3_conv (Conv2D)    (None, 6, 6, 1024)   263168      conv4_block3_2_relu[0][0]        \n",
            "__________________________________________________________________________________________________\n",
            "conv4_block3_3_bn (BatchNormali (None, 6, 6, 1024)   4096        conv4_block3_3_conv[0][0]        \n",
            "__________________________________________________________________________________________________\n",
            "conv4_block3_add (Add)          (None, 6, 6, 1024)   0           conv4_block2_out[0][0]           \n",
            "                                                                 conv4_block3_3_bn[0][0]          \n",
            "__________________________________________________________________________________________________\n",
            "conv4_block3_out (Activation)   (None, 6, 6, 1024)   0           conv4_block3_add[0][0]           \n",
            "__________________________________________________________________________________________________\n",
            "conv4_block4_1_conv (Conv2D)    (None, 6, 6, 256)    262400      conv4_block3_out[0][0]           \n",
            "__________________________________________________________________________________________________\n",
            "conv4_block4_1_bn (BatchNormali (None, 6, 6, 256)    1024        conv4_block4_1_conv[0][0]        \n",
            "__________________________________________________________________________________________________\n",
            "conv4_block4_1_relu (Activation (None, 6, 6, 256)    0           conv4_block4_1_bn[0][0]          \n",
            "__________________________________________________________________________________________________\n",
            "conv4_block4_2_conv (Conv2D)    (None, 6, 6, 256)    590080      conv4_block4_1_relu[0][0]        \n",
            "__________________________________________________________________________________________________\n",
            "conv4_block4_2_bn (BatchNormali (None, 6, 6, 256)    1024        conv4_block4_2_conv[0][0]        \n",
            "__________________________________________________________________________________________________\n",
            "conv4_block4_2_relu (Activation (None, 6, 6, 256)    0           conv4_block4_2_bn[0][0]          \n",
            "__________________________________________________________________________________________________\n",
            "conv4_block4_3_conv (Conv2D)    (None, 6, 6, 1024)   263168      conv4_block4_2_relu[0][0]        \n",
            "__________________________________________________________________________________________________\n",
            "conv4_block4_3_bn (BatchNormali (None, 6, 6, 1024)   4096        conv4_block4_3_conv[0][0]        \n",
            "__________________________________________________________________________________________________\n",
            "conv4_block4_add (Add)          (None, 6, 6, 1024)   0           conv4_block3_out[0][0]           \n",
            "                                                                 conv4_block4_3_bn[0][0]          \n",
            "__________________________________________________________________________________________________\n",
            "conv4_block4_out (Activation)   (None, 6, 6, 1024)   0           conv4_block4_add[0][0]           \n",
            "__________________________________________________________________________________________________\n",
            "conv4_block5_1_conv (Conv2D)    (None, 6, 6, 256)    262400      conv4_block4_out[0][0]           \n",
            "__________________________________________________________________________________________________\n",
            "conv4_block5_1_bn (BatchNormali (None, 6, 6, 256)    1024        conv4_block5_1_conv[0][0]        \n",
            "__________________________________________________________________________________________________\n",
            "conv4_block5_1_relu (Activation (None, 6, 6, 256)    0           conv4_block5_1_bn[0][0]          \n",
            "__________________________________________________________________________________________________\n",
            "conv4_block5_2_conv (Conv2D)    (None, 6, 6, 256)    590080      conv4_block5_1_relu[0][0]        \n",
            "__________________________________________________________________________________________________\n",
            "conv4_block5_2_bn (BatchNormali (None, 6, 6, 256)    1024        conv4_block5_2_conv[0][0]        \n",
            "__________________________________________________________________________________________________\n",
            "conv4_block5_2_relu (Activation (None, 6, 6, 256)    0           conv4_block5_2_bn[0][0]          \n",
            "__________________________________________________________________________________________________\n",
            "conv4_block5_3_conv (Conv2D)    (None, 6, 6, 1024)   263168      conv4_block5_2_relu[0][0]        \n",
            "__________________________________________________________________________________________________\n",
            "conv4_block5_3_bn (BatchNormali (None, 6, 6, 1024)   4096        conv4_block5_3_conv[0][0]        \n",
            "__________________________________________________________________________________________________\n",
            "conv4_block5_add (Add)          (None, 6, 6, 1024)   0           conv4_block4_out[0][0]           \n",
            "                                                                 conv4_block5_3_bn[0][0]          \n",
            "__________________________________________________________________________________________________\n",
            "conv4_block5_out (Activation)   (None, 6, 6, 1024)   0           conv4_block5_add[0][0]           \n",
            "__________________________________________________________________________________________________\n",
            "conv4_block6_1_conv (Conv2D)    (None, 6, 6, 256)    262400      conv4_block5_out[0][0]           \n",
            "__________________________________________________________________________________________________\n",
            "conv4_block6_1_bn (BatchNormali (None, 6, 6, 256)    1024        conv4_block6_1_conv[0][0]        \n",
            "__________________________________________________________________________________________________\n",
            "conv4_block6_1_relu (Activation (None, 6, 6, 256)    0           conv4_block6_1_bn[0][0]          \n",
            "__________________________________________________________________________________________________\n",
            "conv4_block6_2_conv (Conv2D)    (None, 6, 6, 256)    590080      conv4_block6_1_relu[0][0]        \n",
            "__________________________________________________________________________________________________\n",
            "conv4_block6_2_bn (BatchNormali (None, 6, 6, 256)    1024        conv4_block6_2_conv[0][0]        \n",
            "__________________________________________________________________________________________________\n",
            "conv4_block6_2_relu (Activation (None, 6, 6, 256)    0           conv4_block6_2_bn[0][0]          \n",
            "__________________________________________________________________________________________________\n",
            "conv4_block6_3_conv (Conv2D)    (None, 6, 6, 1024)   263168      conv4_block6_2_relu[0][0]        \n",
            "__________________________________________________________________________________________________\n",
            "conv4_block6_3_bn (BatchNormali (None, 6, 6, 1024)   4096        conv4_block6_3_conv[0][0]        \n",
            "__________________________________________________________________________________________________\n",
            "conv4_block6_add (Add)          (None, 6, 6, 1024)   0           conv4_block5_out[0][0]           \n",
            "                                                                 conv4_block6_3_bn[0][0]          \n",
            "__________________________________________________________________________________________________\n",
            "conv4_block6_out (Activation)   (None, 6, 6, 1024)   0           conv4_block6_add[0][0]           \n",
            "__________________________________________________________________________________________________\n",
            "conv5_block1_1_conv (Conv2D)    (None, 3, 3, 512)    524800      conv4_block6_out[0][0]           \n",
            "__________________________________________________________________________________________________\n",
            "conv5_block1_1_bn (BatchNormali (None, 3, 3, 512)    2048        conv5_block1_1_conv[0][0]        \n",
            "__________________________________________________________________________________________________\n",
            "conv5_block1_1_relu (Activation (None, 3, 3, 512)    0           conv5_block1_1_bn[0][0]          \n",
            "__________________________________________________________________________________________________\n",
            "conv5_block1_2_conv (Conv2D)    (None, 3, 3, 512)    2359808     conv5_block1_1_relu[0][0]        \n",
            "__________________________________________________________________________________________________\n",
            "conv5_block1_2_bn (BatchNormali (None, 3, 3, 512)    2048        conv5_block1_2_conv[0][0]        \n",
            "__________________________________________________________________________________________________\n",
            "conv5_block1_2_relu (Activation (None, 3, 3, 512)    0           conv5_block1_2_bn[0][0]          \n",
            "__________________________________________________________________________________________________\n",
            "conv5_block1_0_conv (Conv2D)    (None, 3, 3, 2048)   2099200     conv4_block6_out[0][0]           \n",
            "__________________________________________________________________________________________________\n",
            "conv5_block1_3_conv (Conv2D)    (None, 3, 3, 2048)   1050624     conv5_block1_2_relu[0][0]        \n",
            "__________________________________________________________________________________________________\n",
            "conv5_block1_0_bn (BatchNormali (None, 3, 3, 2048)   8192        conv5_block1_0_conv[0][0]        \n",
            "__________________________________________________________________________________________________\n",
            "conv5_block1_3_bn (BatchNormali (None, 3, 3, 2048)   8192        conv5_block1_3_conv[0][0]        \n",
            "__________________________________________________________________________________________________\n",
            "conv5_block1_add (Add)          (None, 3, 3, 2048)   0           conv5_block1_0_bn[0][0]          \n",
            "                                                                 conv5_block1_3_bn[0][0]          \n",
            "__________________________________________________________________________________________________\n",
            "conv5_block1_out (Activation)   (None, 3, 3, 2048)   0           conv5_block1_add[0][0]           \n",
            "__________________________________________________________________________________________________\n",
            "conv5_block2_1_conv (Conv2D)    (None, 3, 3, 512)    1049088     conv5_block1_out[0][0]           \n",
            "__________________________________________________________________________________________________\n",
            "conv5_block2_1_bn (BatchNormali (None, 3, 3, 512)    2048        conv5_block2_1_conv[0][0]        \n",
            "__________________________________________________________________________________________________\n",
            "conv5_block2_1_relu (Activation (None, 3, 3, 512)    0           conv5_block2_1_bn[0][0]          \n",
            "__________________________________________________________________________________________________\n",
            "conv5_block2_2_conv (Conv2D)    (None, 3, 3, 512)    2359808     conv5_block2_1_relu[0][0]        \n",
            "__________________________________________________________________________________________________\n",
            "conv5_block2_2_bn (BatchNormali (None, 3, 3, 512)    2048        conv5_block2_2_conv[0][0]        \n",
            "__________________________________________________________________________________________________\n",
            "conv5_block2_2_relu (Activation (None, 3, 3, 512)    0           conv5_block2_2_bn[0][0]          \n",
            "__________________________________________________________________________________________________\n",
            "conv5_block2_3_conv (Conv2D)    (None, 3, 3, 2048)   1050624     conv5_block2_2_relu[0][0]        \n",
            "__________________________________________________________________________________________________\n",
            "conv5_block2_3_bn (BatchNormali (None, 3, 3, 2048)   8192        conv5_block2_3_conv[0][0]        \n",
            "__________________________________________________________________________________________________\n",
            "conv5_block2_add (Add)          (None, 3, 3, 2048)   0           conv5_block1_out[0][0]           \n",
            "                                                                 conv5_block2_3_bn[0][0]          \n",
            "__________________________________________________________________________________________________\n",
            "conv5_block2_out (Activation)   (None, 3, 3, 2048)   0           conv5_block2_add[0][0]           \n",
            "__________________________________________________________________________________________________\n",
            "conv5_block3_1_conv (Conv2D)    (None, 3, 3, 512)    1049088     conv5_block2_out[0][0]           \n",
            "__________________________________________________________________________________________________\n",
            "conv5_block3_1_bn (BatchNormali (None, 3, 3, 512)    2048        conv5_block3_1_conv[0][0]        \n",
            "__________________________________________________________________________________________________\n",
            "conv5_block3_1_relu (Activation (None, 3, 3, 512)    0           conv5_block3_1_bn[0][0]          \n",
            "__________________________________________________________________________________________________\n",
            "conv5_block3_2_conv (Conv2D)    (None, 3, 3, 512)    2359808     conv5_block3_1_relu[0][0]        \n",
            "__________________________________________________________________________________________________\n",
            "conv5_block3_2_bn (BatchNormali (None, 3, 3, 512)    2048        conv5_block3_2_conv[0][0]        \n",
            "__________________________________________________________________________________________________\n",
            "conv5_block3_2_relu (Activation (None, 3, 3, 512)    0           conv5_block3_2_bn[0][0]          \n",
            "__________________________________________________________________________________________________\n",
            "conv5_block3_3_conv (Conv2D)    (None, 3, 3, 2048)   1050624     conv5_block3_2_relu[0][0]        \n",
            "__________________________________________________________________________________________________\n",
            "conv5_block3_3_bn (BatchNormali (None, 3, 3, 2048)   8192        conv5_block3_3_conv[0][0]        \n",
            "__________________________________________________________________________________________________\n",
            "conv5_block3_add (Add)          (None, 3, 3, 2048)   0           conv5_block2_out[0][0]           \n",
            "                                                                 conv5_block3_3_bn[0][0]          \n",
            "__________________________________________________________________________________________________\n",
            "conv5_block3_out (Activation)   (None, 3, 3, 2048)   0           conv5_block3_add[0][0]           \n",
            "__________________________________________________________________________________________________\n",
            "global_average_pooling2d (Globa (None, 2048)         0           conv5_block3_out[0][0]           \n",
            "__________________________________________________________________________________________________\n",
            "dropout (Dropout)               (None, 2048)         0           global_average_pooling2d[0][0]   \n",
            "__________________________________________________________________________________________________\n",
            "dense (Dense)                   (None, 19)           38931       dropout[0][0]                    \n",
            "==================================================================================================\n",
            "Total params: 23,626,643\n",
            "Trainable params: 23,573,523\n",
            "Non-trainable params: 53,120\n",
            "__________________________________________________________________________________________________\n"
          ],
          "name": "stdout"
        }
      ]
    },
    {
      "cell_type": "code",
      "metadata": {
        "id": "7CCvrU7Q0Tam"
      },
      "source": [
        "from tensorflow.keras.optimizers import SGD, Adam\n",
        "# sgd = SGD(lr=lrate, momentum=0.9, decay=decay, nesterov=False)\n",
        "adam = Adam(lr=0.0001)\n",
        "model.compile(optimizer= adam, loss='categorical_crossentropy', metrics=['accuracy'])"
      ],
      "execution_count": null,
      "outputs": []
    },
    {
      "cell_type": "code",
      "metadata": {
        "id": "0hFzASL-9aAu"
      },
      "source": [
        "STEPS_PER_EPOCH = np.ceil(train_image_count/BATCH_SIZE)\n",
        "VAL_STEPS = np.ceil(val_image_count/BATCH_SIZE)\n"
      ],
      "execution_count": null,
      "outputs": []
    },
    {
      "cell_type": "code",
      "metadata": {
        "id": "dkxSdksL9vuf"
      },
      "source": [
        "import os.path\n",
        "from os import path\n",
        "\n",
        "if path.exists(checkpoint_filepath):\n",
        "    model.load_weights(checkpoint_filepath)"
      ],
      "execution_count": null,
      "outputs": []
    },
    {
      "cell_type": "code",
      "metadata": {
        "id": "qb1O96Yi9287",
        "outputId": "f682d4e3-af7f-4aff-9876-a7a8ff9be99a",
        "colab": {
          "base_uri": "https://localhost:8080/",
          "height": 641
        }
      },
      "source": [
        "es_callback = tf.keras.callbacks.EarlyStopping(\n",
        "    monitor='val_loss', patience=5,verbose=1,restore_best_weights=True)\n",
        "\n",
        "reduce_lr = ReduceLROnPlateau(patience=4,verbose=1)\n",
        "\n",
        "logdir = \"./logs\"\n",
        "tensorboard_callback = tf.keras.callbacks.TensorBoard(log_dir=logdir,histogram_freq=1)\n",
        "\n",
        "\n",
        "history = model.fit(train_dataset, steps_per_epoch=STEPS_PER_EPOCH,\n",
        "          epochs=40, \n",
        "          verbose=1, \n",
        "          validation_data=val_dataset,validation_steps=VAL_STEPS,\n",
        "          callbacks=[model_cp_cb,tensorboard_callback,es_callback,reduce_lr])"
      ],
      "execution_count": null,
      "outputs": [
        {
          "output_type": "stream",
          "text": [
            "Epoch 1/40\n",
            "231/231 [==============================] - 337s 1s/step - loss: 3.6151 - accuracy: 0.1085 - val_loss: 3.4791 - val_accuracy: 0.0421 - lr: 1.0000e-04\n",
            "Epoch 2/40\n",
            "231/231 [==============================] - 131s 565ms/step - loss: 2.6793 - accuracy: 0.2216 - val_loss: 3.2951 - val_accuracy: 0.0783 - lr: 1.0000e-04\n",
            "Epoch 3/40\n",
            "231/231 [==============================] - 131s 566ms/step - loss: 2.1698 - accuracy: 0.3713 - val_loss: 2.3246 - val_accuracy: 0.3402 - lr: 1.0000e-04\n",
            "Epoch 4/40\n",
            "231/231 [==============================] - 131s 565ms/step - loss: 1.7499 - accuracy: 0.4904 - val_loss: 1.9350 - val_accuracy: 0.4471 - lr: 1.0000e-04\n",
            "Epoch 5/40\n",
            "231/231 [==============================] - 130s 564ms/step - loss: 1.3642 - accuracy: 0.6035 - val_loss: 1.9967 - val_accuracy: 0.4492 - lr: 1.0000e-04\n",
            "Epoch 6/40\n",
            "231/231 [==============================] - 130s 565ms/step - loss: 1.1269 - accuracy: 0.6791 - val_loss: 1.6083 - val_accuracy: 0.5559 - lr: 1.0000e-04\n",
            "Epoch 7/40\n",
            "231/231 [==============================] - 130s 565ms/step - loss: 0.8900 - accuracy: 0.7407 - val_loss: 1.2946 - val_accuracy: 0.6397 - lr: 1.0000e-04\n",
            "Epoch 8/40\n",
            "231/231 [==============================] - 129s 558ms/step - loss: 0.7407 - accuracy: 0.7860 - val_loss: 1.2940 - val_accuracy: 0.6384 - lr: 1.0000e-04\n",
            "Epoch 9/40\n",
            "231/231 [==============================] - 129s 557ms/step - loss: 0.6207 - accuracy: 0.8188 - val_loss: 1.5446 - val_accuracy: 0.6075 - lr: 1.0000e-04\n",
            "Epoch 10/40\n",
            "231/231 [==============================] - 130s 565ms/step - loss: 0.5192 - accuracy: 0.8469 - val_loss: 1.2515 - val_accuracy: 0.6725 - lr: 1.0000e-04\n",
            "Epoch 11/40\n",
            "231/231 [==============================] - 129s 557ms/step - loss: 0.4503 - accuracy: 0.8660 - val_loss: 1.5737 - val_accuracy: 0.6196 - lr: 1.0000e-04\n",
            "Epoch 12/40\n",
            "231/231 [==============================] - 129s 557ms/step - loss: 0.3934 - accuracy: 0.8838 - val_loss: 1.5759 - val_accuracy: 0.6357 - lr: 1.0000e-04\n",
            "Epoch 13/40\n",
            "231/231 [==============================] - 130s 565ms/step - loss: 0.3378 - accuracy: 0.8991 - val_loss: 1.3600 - val_accuracy: 0.6911 - lr: 1.0000e-04\n",
            "Epoch 14/40\n",
            "231/231 [==============================] - ETA: 0s - loss: 0.2925 - accuracy: 0.9118\n",
            "Epoch 00014: ReduceLROnPlateau reducing learning rate to 9.999999747378752e-06.\n",
            "231/231 [==============================] - 129s 558ms/step - loss: 0.2925 - accuracy: 0.9118 - val_loss: 1.5351 - val_accuracy: 0.6690 - lr: 1.0000e-04\n",
            "Epoch 15/40\n",
            "231/231 [==============================] - ETA: 0s - loss: 0.1799 - accuracy: 0.9450Restoring model weights from the end of the best epoch.\n",
            "231/231 [==============================] - 129s 558ms/step - loss: 0.1799 - accuracy: 0.9450 - val_loss: 1.5357 - val_accuracy: 0.6740 - lr: 1.0000e-05\n",
            "Epoch 00015: early stopping\n"
          ],
          "name": "stdout"
        }
      ]
    },
    {
      "cell_type": "markdown",
      "metadata": {
        "id": "ZoXW6QdHlmlS"
      },
      "source": [
        "# Evaluate model on test set"
      ]
    },
    {
      "cell_type": "code",
      "metadata": {
        "id": "AQeVRd5NTrW5"
      },
      "source": [
        "from sklearn.metrics import classification_report,confusion_matrix\n",
        "import seaborn as sns\n",
        "import numpy as np"
      ],
      "execution_count": null,
      "outputs": []
    },
    {
      "cell_type": "code",
      "metadata": {
        "id": "ePTxuBaplp0D",
        "outputId": "ac959577-c23c-418f-e7ca-b8db6189320e",
        "colab": {
          "base_uri": "https://localhost:8080/",
          "height": 34
        }
      },
      "source": [
        "# Get y_true and y_pred\n",
        "X_true = np.array([l[0].numpy() for l in list(labeled_test)])\n",
        "Y_true = np.array([list(l[1].numpy()) for l in list(labeled_test)])\n",
        "y_true = np.argmax(Y_true,axis=1)\n",
        "Y_pred = model.predict(np.array(X_true),verbose=1)\n",
        "y_pred = np.argmax(Y_pred, axis=1)"
      ],
      "execution_count": null,
      "outputs": [
        {
          "output_type": "stream",
          "text": [
            "1129/1129 [==============================] - 20s 18ms/step\n"
          ],
          "name": "stdout"
        }
      ]
    },
    {
      "cell_type": "code",
      "metadata": {
        "id": "1sVkZXoDlp8S",
        "outputId": "81581bed-4890-4431-9a0d-60db5dcbb890",
        "colab": {
          "base_uri": "https://localhost:8080/",
          "height": 552
        }
      },
      "source": [
        "print('Classification Report')\n",
        "print(classification_report(y_true, y_pred, target_names=CLASS_NAMES))"
      ],
      "execution_count": null,
      "outputs": [
        {
          "output_type": "stream",
          "text": [
            "Classification Report\n",
            "              precision    recall  f1-score   support\n",
            "\n",
            "         goa       0.00      0.00      0.00      2427\n",
            "      boston       0.00      0.00      0.00      1610\n",
            "      berlin       0.00      0.00      0.00      2005\n",
            "    helsinki       0.04      0.98      0.08      1561\n",
            "     phoenix       0.00      0.00      0.00      1579\n",
            "     toronto       0.00      0.00      0.00      1867\n",
            "    saopaulo       0.00      0.00      0.00      1771\n",
            "      austin       0.00      0.00      0.00      1660\n",
            "       paris       0.00      0.00      0.00      2320\n",
            "      moscow       0.00      0.00      0.00      1522\n",
            "          sf       0.00      0.00      0.00      2087\n",
            "         cph       0.00      0.00      0.00      1725\n",
            "   amsterdam       0.00      0.00      0.00      2021\n",
            "    budapest       0.00      0.00      0.00      1146\n",
            "     bangkok       0.00      0.00      0.00      1760\n",
            "       tokyo       0.00      0.00      0.00      2149\n",
            "      manila       0.00      0.00      0.00      2352\n",
            "      ottawa       0.07      0.03      0.04      2151\n",
            "   melbourne       0.00      0.00      0.00      2386\n",
            "\n",
            "    accuracy                           0.04     36099\n",
            "   macro avg       0.01      0.05      0.01     36099\n",
            "weighted avg       0.01      0.04      0.01     36099\n",
            "\n"
          ],
          "name": "stdout"
        },
        {
          "output_type": "stream",
          "text": [
            "/usr/local/lib/python3.6/dist-packages/sklearn/metrics/_classification.py:1272: UndefinedMetricWarning: Precision and F-score are ill-defined and being set to 0.0 in labels with no predicted samples. Use `zero_division` parameter to control this behavior.\n",
            "  _warn_prf(average, modifier, msg_start, len(result))\n"
          ],
          "name": "stderr"
        }
      ]
    },
    {
      "cell_type": "code",
      "metadata": {
        "id": "U5xjq7GZlp_B",
        "outputId": "985f8c40-1472-4cbd-cdc2-f9f004a65f27",
        "colab": {
          "base_uri": "https://localhost:8080/",
          "height": 771
        }
      },
      "source": [
        "\n",
        "print('Confusion Matrix')\n",
        "cm = confusion_matrix(y_true, y_pred)\n",
        "\n",
        "plt.figure(figsize=(13,13))\n",
        "sns.heatmap(cm, annot=True, fmt='g',cmap = 'coolwarm',square=True,xticklabels=CLASS_NAMES,yticklabels=CLASS_NAMES)\n",
        "plt.yticks(rotation=0)\n",
        "plt.xlabel('Predicted')\n",
        "plt.ylabel('Actual');"
      ],
      "execution_count": null,
      "outputs": [
        {
          "output_type": "stream",
          "text": [
            "Confusion Matrix\n"
          ],
          "name": "stdout"
        },
        {
          "output_type": "display_data",
          "data": {
            "image/png": "[encoded data removed]",
            "text/plain": [
              "<Figure size 936x936 with 2 Axes>"
            ]
          },
          "metadata": {
            "tags": [],
            "needs_background": "light"
          }
        }
      ]
    },
    {
      "cell_type": "markdown",
      "metadata": {
        "id": "HZvSBCwie38z"
      },
      "source": [
        "# Attempt at generalization"
      ]
    },
    {
      "cell_type": "code",
      "metadata": {
        "id": "2USUlHcFV07Q",
        "outputId": "938566ac-1233-4cf6-cb69-3f374ff28447",
        "colab": {
          "base_uri": "https://localhost:8080/",
          "height": 774
        }
      },
      "source": [
        "# Setup generalization dataset (from drive)\n",
        "gen_dir = Path(path_data+'/generalization/')\n",
        "list_gen = tf.data.Dataset.list_files(str(gen_dir/\"*/*\"),shuffle=False)\n",
        "labeled_gen = list_gen.map(process_path, num_parallel_calls=AUTOTUNE)\n",
        "gen_dataset = prepare_for_training(labeled_gen)\n",
        "\n",
        "# Get y_true and y_pred\n",
        "X_true = np.array([l[0].numpy() for l in list(labeled_gen)])\n",
        "Y_true = np.array([list(l[1].numpy()) for l in list(labeled_gen)])\n",
        "y_true = np.argmax(Y_true,axis=1)\n",
        "Y_pred = model.predict(np.array(X_true),verbose=1)\n",
        "y_pred = np.argmax(Y_pred, axis=1)\n",
        "\n",
        "# Plot confusion matrix\n",
        "cm = confusion_matrix(y_true, y_pred)\n",
        "plt.figure(figsize=(13,13))\n",
        "sns.heatmap(cm, annot=True, fmt='g',cmap = 'coolwarm',square=True,xticklabels=CLASS_NAMES,yticklabels=CLASS_NAMES)\n",
        "plt.yticks(rotation=0)\n",
        "plt.xlabel('Predicted')\n",
        "plt.ylabel('Actual');"
      ],
      "execution_count": null,
      "outputs": [
        {
          "output_type": "stream",
          "text": [
            "1/1 [==============================] - 0s 1ms/step\n"
          ],
          "name": "stdout"
        },
        {
          "output_type": "display_data",
          "data": {
            "image/png": "[encoded data removed]",
            "text/plain": [
              "<Figure size 936x936 with 2 Axes>"
            ]
          },
          "metadata": {
            "tags": [],
            "needs_background": "light"
          }
        }
      ]
    },
    {
      "cell_type": "code",
      "metadata": {
        "id": "V9cm6JX7dfSS"
      },
      "source": [
        "from tensorflow.keras.preprocessing.image import array_to_img, img_to_array, load_img"
      ],
      "execution_count": null,
      "outputs": []
    },
    {
      "cell_type": "code",
      "metadata": {
        "id": "stWKxTtteOZV"
      },
      "source": [
        "def get_data(file_list,norm_range=[-1,1],img_size=(128,128)):\n",
        "    X = []\n",
        "    for filename in file_list :\n",
        "        img = img_to_array(load_img(filename, target_size = img_size))\n",
        "        X.append(img)\n",
        "    X = np.array(X).astype('float32')\n",
        "    if norm_range == [-1,1]:\n",
        "      X = (X - X.mean()) / X.std()\n",
        "      X = np.clip(X,-1,1)\n",
        "    elif norm_range == [0,1]:\n",
        "      X = X / 255\n",
        "    else:\n",
        "      print('bad range')\n",
        "      return\n",
        "    return X,X.mean(),X.std()"
      ],
      "execution_count": null,
      "outputs": []
    },
    {
      "cell_type": "code",
      "metadata": {
        "id": "0Bim5GuHfZE5",
        "outputId": "a7214524-bc7d-4516-dea9-518e761d8399",
        "colab": {
          "base_uri": "https://localhost:8080/",
          "height": 168
        }
      },
      "source": [
        "paris_files = glob.glob('./train/paris/*')"
      ],
      "execution_count": null,
      "outputs": [
        {
          "output_type": "error",
          "ename": "AttributeError",
          "evalue": "ignored",
          "traceback": [
            "\u001b[0;31m---------------------------------------------------------------------------\u001b[0m",
            "\u001b[0;31mAttributeError\u001b[0m                            Traceback (most recent call last)",
            "\u001b[0;32m<ipython-input-44-e1a607c571ab>\u001b[0m in \u001b[0;36m<module>\u001b[0;34m()\u001b[0m\n\u001b[0;32m----> 1\u001b[0;31m \u001b[0mparis_files\u001b[0m \u001b[0;34m=\u001b[0m \u001b[0mglob\u001b[0m\u001b[0;34m.\u001b[0m\u001b[0mglob\u001b[0m\u001b[0;34m(\u001b[0m\u001b[0;34m'./train/paris/*'\u001b[0m\u001b[0;34m)\u001b[0m\u001b[0;34m\u001b[0m\u001b[0;34m\u001b[0m\u001b[0m\n\u001b[0m",
            "\u001b[0;31mAttributeError\u001b[0m: 'function' object has no attribute 'glob'"
          ]
        }
      ]
    },
    {
      "cell_type": "code",
      "metadata": {
        "id": "d5hCCmLOfWzu"
      },
      "source": [
        "dataset,mean,std = get_data(paris_files)"
      ],
      "execution_count": null,
      "outputs": []
    },
    {
      "cell_type": "code",
      "metadata": {
        "id": "5iuKn_kyffNm",
        "outputId": "f5f3ee75-fb3c-4427-d600-6d9fb06ddb9d",
        "colab": {
          "base_uri": "https://localhost:8080/",
          "height": 34
        }
      },
      "source": [
        "dataset.min(),dataset.max()"
      ],
      "execution_count": null,
      "outputs": [
        {
          "output_type": "execute_result",
          "data": {
            "text/plain": [
              "(-1.0, 1.0)"
            ]
          },
          "metadata": {
            "tags": []
          },
          "execution_count": 13
        }
      ]
    },
    {
      "cell_type": "code",
      "metadata": {
        "id": "7mgGTKaugbzb",
        "outputId": "39bd37fd-ed6c-43d2-a01a-f3b1753bcc18",
        "colab": {
          "base_uri": "https://localhost:8080/",
          "height": 240
        }
      },
      "source": [
        "# (X - X.mean()) / X.std()\n",
        "\n",
        "im = dataset[2]\n",
        "\n",
        "plt.imshow(im*im.std() + im.mean());\n"
      ],
      "execution_count": null,
      "outputs": [
        {
          "output_type": "error",
          "ename": "NameError",
          "evalue": "ignored",
          "traceback": [
            "\u001b[0;31m---------------------------------------------------------------------------\u001b[0m",
            "\u001b[0;31mNameError\u001b[0m                                 Traceback (most recent call last)",
            "\u001b[0;32m<ipython-input-45-50055a32114f>\u001b[0m in \u001b[0;36m<module>\u001b[0;34m()\u001b[0m\n\u001b[1;32m      1\u001b[0m \u001b[0;31m# (X - X.mean()) / X.std()\u001b[0m\u001b[0;34m\u001b[0m\u001b[0;34m\u001b[0m\u001b[0;34m\u001b[0m\u001b[0m\n\u001b[1;32m      2\u001b[0m \u001b[0;34m\u001b[0m\u001b[0m\n\u001b[0;32m----> 3\u001b[0;31m \u001b[0mim\u001b[0m \u001b[0;34m=\u001b[0m \u001b[0mdataset\u001b[0m\u001b[0;34m[\u001b[0m\u001b[0;36m2\u001b[0m\u001b[0;34m]\u001b[0m\u001b[0;34m\u001b[0m\u001b[0;34m\u001b[0m\u001b[0m\n\u001b[0m\u001b[1;32m      4\u001b[0m \u001b[0;34m\u001b[0m\u001b[0m\n\u001b[1;32m      5\u001b[0m \u001b[0mplt\u001b[0m\u001b[0;34m.\u001b[0m\u001b[0mimshow\u001b[0m\u001b[0;34m(\u001b[0m\u001b[0mim\u001b[0m\u001b[0;34m*\u001b[0m\u001b[0mim\u001b[0m\u001b[0;34m.\u001b[0m\u001b[0mstd\u001b[0m\u001b[0;34m(\u001b[0m\u001b[0;34m)\u001b[0m \u001b[0;34m+\u001b[0m \u001b[0mim\u001b[0m\u001b[0;34m.\u001b[0m\u001b[0mmean\u001b[0m\u001b[0;34m(\u001b[0m\u001b[0;34m)\u001b[0m\u001b[0;34m)\u001b[0m\u001b[0;34m;\u001b[0m\u001b[0;34m\u001b[0m\u001b[0;34m\u001b[0m\u001b[0m\n",
            "\u001b[0;31mNameError\u001b[0m: name 'dataset' is not defined"
          ]
        }
      ]
    },
    {
      "cell_type": "code",
      "metadata": {
        "id": "7wOlQFP9Jl5F"
      },
      "source": [
        ""
      ],
      "execution_count": null,
      "outputs": []
    }
  ]
}