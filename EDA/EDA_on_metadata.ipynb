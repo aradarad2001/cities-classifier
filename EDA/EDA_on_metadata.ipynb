{
 "cells": [
  {
   "cell_type": "code",
   "execution_count": 1,
   "metadata": {},
   "outputs": [
    {
     "name": "stdout",
     "output_type": "stream",
     "text": [
      "Collecting spectral\n",
      "  Downloading spectral-0.21-py3-none-any.whl (187 kB)\n",
      "Requirement already satisfied: numpy in c:\\1\\anaconda3\\envs\\tf\\lib\\site-packages (from spectral) (1.18.4)\n",
      "Installing collected packages: spectral\n",
      "Successfully installed spectral-0.21\n"
     ]
    }
   ],
   "source": [
    "!pip install spectral"
   ]
  },
  {
   "cell_type": "code",
   "execution_count": 4,
   "metadata": {},
   "outputs": [],
   "source": [
    "import tensorflow"
   ]
  },
  {
   "cell_type": "code",
   "execution_count": 6,
   "metadata": {},
   "outputs": [
    {
     "data": {
      "text/plain": [
       "'2.1.0'"
      ]
     },
     "execution_count": 6,
     "metadata": {},
     "output_type": "execute_result"
    }
   ],
   "source": [
    "tensorflow.__version__"
   ]
  },
  {
   "cell_type": "code",
   "execution_count": 9,
   "metadata": {},
   "outputs": [],
   "source": [
    "import numpy as np\n",
    "import pandas as pd \n",
    "import os\n",
    "import gc\n",
    "import matplotlib.pyplot as plt\n",
    "from spectral import *\n",
    "import seaborn as sns\n",
    "\n",
    "%matplotlib inline\n",
    "\n",
    "pal = sns.color_palette()\n",
    "sns.set_style(\"whitegrid\")"
   ]
  },
  {
   "cell_type": "code",
   "execution_count": 17,
   "metadata": {},
   "outputs": [
    {
     "name": "stdout",
     "output_type": "stream",
     "text": [
      " Volume in drive C is Windows\n",
      " Volume Serial Number is C6F9-3569\n",
      "\n",
      " Directory of C:\\Users\\Dor Meir\\Google Drive\\Learning_ML\\ITC Program\\Projects\\final_project\\adidas\\01-data\\meta\\bangkok\n",
      "\n",
      "23/05/2020  17:20    <DIR>          .\n",
      "23/05/2020  17:20    <DIR>          ..\n",
      "23/05/2020  17:20    <DIR>          database\n",
      "23/05/2020  17:20    <DIR>          query\n",
      "               0 File(s)              0 bytes\n",
      "               4 Dir(s)   9,999,200,256 bytes free\n"
     ]
    }
   ],
   "source": [
    "ls \"C:\\Users\\Dor Meir\\Google Drive\\Learning_ML\\ITC Program\\Projects\\final_project\\adidas\\01-data\\meta\\bangkok\\\""
   ]
  },
  {
   "cell_type": "code",
   "execution_count": 10,
   "metadata": {},
   "outputs": [
    {
     "ename": "FileNotFoundError",
     "evalue": "[WinError 3] The system cannot find the path specified: 'Samples'",
     "output_type": "error",
     "traceback": [
      "\u001b[1;31m-----------------------------------------------------------------------\u001b[0m",
      "\u001b[1;31mFileNotFoundError\u001b[0m                     Traceback (most recent call last)",
      "\u001b[1;32m<ipython-input-10-992d6ce231a3>\u001b[0m in \u001b[0;36m<module>\u001b[1;34m\u001b[0m\n\u001b[0;32m      1\u001b[0m \u001b[0mdirectory\u001b[0m \u001b[1;33m=\u001b[0m \u001b[1;34m'Samples'\u001b[0m\u001b[1;33m\u001b[0m\u001b[1;33m\u001b[0m\u001b[0m\n\u001b[0;32m      2\u001b[0m \u001b[1;33m\u001b[0m\u001b[0m\n\u001b[1;32m----> 3\u001b[1;33m \u001b[1;32mfor\u001b[0m \u001b[0mf\u001b[0m \u001b[1;32min\u001b[0m \u001b[0mos\u001b[0m\u001b[1;33m.\u001b[0m\u001b[0mlistdir\u001b[0m\u001b[1;33m(\u001b[0m\u001b[0mdirectory\u001b[0m\u001b[1;33m)\u001b[0m\u001b[1;33m:\u001b[0m\u001b[1;33m\u001b[0m\u001b[1;33m\u001b[0m\u001b[0m\n\u001b[0m\u001b[0;32m      4\u001b[0m     \u001b[1;32mif\u001b[0m \u001b[1;32mnot\u001b[0m \u001b[0mos\u001b[0m\u001b[1;33m.\u001b[0m\u001b[0mpath\u001b[0m\u001b[1;33m.\u001b[0m\u001b[0misdir\u001b[0m\u001b[1;33m(\u001b[0m\u001b[0mdirectory\u001b[0m\u001b[1;33m+\u001b[0m \u001b[1;34m'/'\u001b[0m \u001b[1;33m+\u001b[0m \u001b[0mf\u001b[0m\u001b[1;33m)\u001b[0m\u001b[1;33m:\u001b[0m\u001b[1;33m\u001b[0m\u001b[1;33m\u001b[0m\u001b[0m\n\u001b[0;32m      5\u001b[0m         \u001b[0mprint\u001b[0m\u001b[1;33m(\u001b[0m\u001b[0mf\u001b[0m\u001b[1;33m.\u001b[0m\u001b[0mljust\u001b[0m\u001b[1;33m(\u001b[0m\u001b[1;36m30\u001b[0m\u001b[1;33m)\u001b[0m \u001b[1;33m+\u001b[0m \u001b[0mstr\u001b[0m\u001b[1;33m(\u001b[0m\u001b[0mround\u001b[0m\u001b[1;33m(\u001b[0m\u001b[0mos\u001b[0m\u001b[1;33m.\u001b[0m\u001b[0mpath\u001b[0m\u001b[1;33m.\u001b[0m\u001b[0mgetsize\u001b[0m\u001b[1;33m(\u001b[0m\u001b[0mdirectory\u001b[0m\u001b[1;33m+\u001b[0m \u001b[1;34m'/'\u001b[0m \u001b[1;33m+\u001b[0m \u001b[0mf\u001b[0m\u001b[1;33m)\u001b[0m \u001b[1;33m/\u001b[0m \u001b[1;36m1000000\u001b[0m\u001b[1;33m,\u001b[0m \u001b[1;36m2\u001b[0m\u001b[1;33m)\u001b[0m\u001b[1;33m)\u001b[0m \u001b[1;33m+\u001b[0m \u001b[1;34m'MB'\u001b[0m\u001b[1;33m)\u001b[0m\u001b[1;33m\u001b[0m\u001b[1;33m\u001b[0m\u001b[0m\n",
      "\u001b[1;31mFileNotFoundError\u001b[0m: [WinError 3] The system cannot find the path specified: 'Samples'"
     ]
    }
   ],
   "source": [
    "directory = 'Samples'\n",
    "for f in os.listdir(directory):\n",
    "    if not os.path.isdir(directory+ '/' + f):\n",
    "        print(f.ljust(30) + str(round(os.path.getsize(directory+ '/' + f) / 1000000, 2)) + 'MB')\n",
    "    else:\n",
    "        sizes = [os.path.getsize(directory+ '/' + f + '/' + x)/1000000 for x in os.listdir(directory+ '/' + f)]\n",
    "        print(f.ljust(30) + str(round(sum(sizes), 2)) + 'MB' + ' ({} files)'.format(len(sizes)))\n"
   ]
  },
  {
   "cell_type": "code",
   "execution_count": 210,
   "metadata": {},
   "outputs": [],
   "source": [
    "# create a dictionary with all the image names and sizes used for the model:\n",
    "cities = ['bangkok', 'moscow', 'berlin']\n",
    "data_dict = {}\n",
    "\n",
    "# loop through all cities:\n",
    "for city in cities:\n",
    "    directory = 'Samples/'+ city\n",
    "    data_dict[city] = {'files': [], 'sizes': []}\n",
    "    \n",
    "    for f in os.listdir(directory):\n",
    "        if not os.path.isdir(directory+ '/' + f):\n",
    "            # get image name:\n",
    "            data_dict[city]['files'].append(f)\n",
    "            # get image size:\n",
    "            data_dict[city]['sizes'].append(os.path.getsize(directory+ '/' + f) / 1000000)"
   ]
  },
  {
   "cell_type": "markdown",
   "metadata": {},
   "source": [
    "# todo's "
   ]
  },
  {
   "cell_type": "markdown",
   "metadata": {},
   "source": [
    "- filter metadata so we have only the meta data of the images we use \n",
    "- EDA on metadata\n",
    "- EDA in pictures: Sizes, color?, structure\n",
    "- Preprocessing: label picture according to type (urban, vegetation, road/highwigh, rural)"
   ]
  },
  {
   "cell_type": "markdown",
   "metadata": {},
   "source": [
    "https://www.kaggle.com/jpmiller/basic-eda-with-images/notebook\n",
    "https://www.kaggle.com/cc786537662/initial-eda-image-processing"
   ]
  },
  {
   "cell_type": "markdown",
   "metadata": {},
   "source": [
    "# Metadata:"
   ]
  },
  {
   "cell_type": "code",
   "execution_count": 211,
   "metadata": {},
   "outputs": [],
   "source": [
    "# load all metadata:\n",
    "directory = 'Samples/meta'\n",
    "li = []\n",
    "tp = ['raw', 'seq_info', 'subtask_index', 'postprocessed']\n",
    "meta_dict = {}\n",
    "\n",
    "for t in tp:\n",
    "    meta_temp = []\n",
    "    for f in os.listdir(directory):\n",
    "        # add all types of meta data\n",
    " \n",
    "        if f.endswith(t + '.csv'):\n",
    "\n",
    "            # exctract information:\n",
    "            filename = f.split('.')[0].split('_')\n",
    "            city = filename[0]\n",
    "            db = filename[1]\n",
    "            kind = filename[2] \n",
    "            # load data:\n",
    "            data = pd.read_csv(directory+ '/' + f)\n",
    "            data['city'] = city\n",
    "            data['db'] = db\n",
    "            data['kind']= kind\n",
    "            meta_temp.append(data)\n",
    "\n",
    "    meta_dict[t] = pd.concat(meta_temp, axis=0, sort=False)"
   ]
  },
  {
   "cell_type": "code",
   "execution_count": 212,
   "metadata": {},
   "outputs": [
    {
     "data": {
      "text/plain": [
       "['raw', 'seq_info', 'subtask_index', 'postprocessed']"
      ]
     },
     "execution_count": 212,
     "metadata": {},
     "output_type": "execute_result"
    }
   ],
   "source": [
    "keys = list(meta_dict.keys())\n",
    "keys"
   ]
  },
  {
   "cell_type": "code",
   "execution_count": 215,
   "metadata": {},
   "outputs": [],
   "source": [
    "metadata = meta_dict[keys[0]].drop(columns=['kind', 'Unnamed: 0'])\n",
    "\n",
    "for key in keys[1:]:\n",
    "    metadata = metadata.merge(meta_dict[key].drop(columns=['kind', 'Unnamed: 0']), how='outer', on=['key', 'city', 'db'])\n",
    "    \n",
    "# save as csv\n",
    "metadata.to_csv('metadata.csv', index=False)"
   ]
  },
  {
   "cell_type": "code",
   "execution_count": 194,
   "metadata": {},
   "outputs": [
    {
     "data": {
      "text/html": [
       "<div>\n",
       "<style scoped>\n",
       "    .dataframe tbody tr th:only-of-type {\n",
       "        vertical-align: middle;\n",
       "    }\n",
       "\n",
       "    .dataframe tbody tr th {\n",
       "        vertical-align: top;\n",
       "    }\n",
       "\n",
       "    .dataframe thead th {\n",
       "        text-align: right;\n",
       "    }\n",
       "</style>\n",
       "<table border=\"1\" class=\"dataframe\">\n",
       "  <thead>\n",
       "    <tr style=\"text-align: right;\">\n",
       "      <th></th>\n",
       "      <th>key</th>\n",
       "      <th>lon</th>\n",
       "      <th>lat</th>\n",
       "      <th>ca</th>\n",
       "      <th>captured_at</th>\n",
       "      <th>pano</th>\n",
       "      <th>city</th>\n",
       "      <th>db</th>\n",
       "      <th>sequence_key</th>\n",
       "      <th>frame_number</th>\n",
       "      <th>...</th>\n",
       "      <th>n2d</th>\n",
       "      <th>o2n</th>\n",
       "      <th>n2o</th>\n",
       "      <th>all</th>\n",
       "      <th>easting</th>\n",
       "      <th>northing</th>\n",
       "      <th>unique_cluster</th>\n",
       "      <th>control_panel</th>\n",
       "      <th>night</th>\n",
       "      <th>view_direction</th>\n",
       "    </tr>\n",
       "  </thead>\n",
       "  <tbody>\n",
       "    <tr>\n",
       "      <td>0</td>\n",
       "      <td>1Zo_7pjS6hwhRKqy0P5dRA</td>\n",
       "      <td>13.325139</td>\n",
       "      <td>52.458353</td>\n",
       "      <td>36.0</td>\n",
       "      <td>2015-08-01</td>\n",
       "      <td>False</td>\n",
       "      <td>tlx</td>\n",
       "      <td>database</td>\n",
       "      <td>DPD2-qP1OmP9RAc7SUFsRQ</td>\n",
       "      <td>316</td>\n",
       "      <td>...</td>\n",
       "      <td>False</td>\n",
       "      <td>False</td>\n",
       "      <td>False</td>\n",
       "      <td>True</td>\n",
       "      <td>386202.043829</td>\n",
       "      <td>5.813338e+06</td>\n",
       "      <td>0</td>\n",
       "      <td>False</td>\n",
       "      <td>False</td>\n",
       "      <td>Forward</td>\n",
       "    </tr>\n",
       "    <tr>\n",
       "      <td>1</td>\n",
       "      <td>SgMdB3l1KjkiOCi66B2_-Q</td>\n",
       "      <td>13.325219</td>\n",
       "      <td>52.458431</td>\n",
       "      <td>36.0</td>\n",
       "      <td>2015-08-01</td>\n",
       "      <td>False</td>\n",
       "      <td>tlx</td>\n",
       "      <td>database</td>\n",
       "      <td>DPD2-qP1OmP9RAc7SUFsRQ</td>\n",
       "      <td>317</td>\n",
       "      <td>...</td>\n",
       "      <td>False</td>\n",
       "      <td>False</td>\n",
       "      <td>False</td>\n",
       "      <td>True</td>\n",
       "      <td>386207.713584</td>\n",
       "      <td>5.813347e+06</td>\n",
       "      <td>0</td>\n",
       "      <td>False</td>\n",
       "      <td>False</td>\n",
       "      <td>Forward</td>\n",
       "    </tr>\n",
       "    <tr>\n",
       "      <td>2</td>\n",
       "      <td>XrUp0yR583OMfbzmk0qJtA</td>\n",
       "      <td>13.325306</td>\n",
       "      <td>52.458503</td>\n",
       "      <td>38.0</td>\n",
       "      <td>2015-08-01</td>\n",
       "      <td>False</td>\n",
       "      <td>tlx</td>\n",
       "      <td>database</td>\n",
       "      <td>DPD2-qP1OmP9RAc7SUFsRQ</td>\n",
       "      <td>318</td>\n",
       "      <td>...</td>\n",
       "      <td>False</td>\n",
       "      <td>False</td>\n",
       "      <td>False</td>\n",
       "      <td>True</td>\n",
       "      <td>386213.756137</td>\n",
       "      <td>5.813355e+06</td>\n",
       "      <td>0</td>\n",
       "      <td>False</td>\n",
       "      <td>False</td>\n",
       "      <td>Forward</td>\n",
       "    </tr>\n",
       "    <tr>\n",
       "      <td>3</td>\n",
       "      <td>4rL3324h3ardVSjPN03xOg</td>\n",
       "      <td>13.325381</td>\n",
       "      <td>52.458578</td>\n",
       "      <td>33.0</td>\n",
       "      <td>2015-08-01</td>\n",
       "      <td>False</td>\n",
       "      <td>tlx</td>\n",
       "      <td>database</td>\n",
       "      <td>DPD2-qP1OmP9RAc7SUFsRQ</td>\n",
       "      <td>319</td>\n",
       "      <td>...</td>\n",
       "      <td>False</td>\n",
       "      <td>False</td>\n",
       "      <td>False</td>\n",
       "      <td>True</td>\n",
       "      <td>386219.044968</td>\n",
       "      <td>5.813363e+06</td>\n",
       "      <td>0</td>\n",
       "      <td>False</td>\n",
       "      <td>False</td>\n",
       "      <td>Forward</td>\n",
       "    </tr>\n",
       "    <tr>\n",
       "      <td>4</td>\n",
       "      <td>YU3M7re8l-bQnuDB2QElbg</td>\n",
       "      <td>13.325453</td>\n",
       "      <td>52.458656</td>\n",
       "      <td>35.0</td>\n",
       "      <td>2015-08-01</td>\n",
       "      <td>False</td>\n",
       "      <td>tlx</td>\n",
       "      <td>database</td>\n",
       "      <td>DPD2-qP1OmP9RAc7SUFsRQ</td>\n",
       "      <td>320</td>\n",
       "      <td>...</td>\n",
       "      <td>False</td>\n",
       "      <td>False</td>\n",
       "      <td>False</td>\n",
       "      <td>True</td>\n",
       "      <td>386224.150771</td>\n",
       "      <td>5.813372e+06</td>\n",
       "      <td>0</td>\n",
       "      <td>False</td>\n",
       "      <td>False</td>\n",
       "      <td>Forward</td>\n",
       "    </tr>\n",
       "  </tbody>\n",
       "</table>\n",
       "<p>5 rows × 23 columns</p>\n",
       "</div>"
      ],
      "text/plain": [
       "                      key        lon        lat    ca captured_at   pano city  \\\n",
       "0  1Zo_7pjS6hwhRKqy0P5dRA  13.325139  52.458353  36.0  2015-08-01  False  tlx   \n",
       "1  SgMdB3l1KjkiOCi66B2_-Q  13.325219  52.458431  36.0  2015-08-01  False  tlx   \n",
       "2  XrUp0yR583OMfbzmk0qJtA  13.325306  52.458503  38.0  2015-08-01  False  tlx   \n",
       "3  4rL3324h3ardVSjPN03xOg  13.325381  52.458578  33.0  2015-08-01  False  tlx   \n",
       "4  YU3M7re8l-bQnuDB2QElbg  13.325453  52.458656  35.0  2015-08-01  False  tlx   \n",
       "\n",
       "         db            sequence_key  frame_number  ...    n2d    o2n    n2o  \\\n",
       "0  database  DPD2-qP1OmP9RAc7SUFsRQ           316  ...  False  False  False   \n",
       "1  database  DPD2-qP1OmP9RAc7SUFsRQ           317  ...  False  False  False   \n",
       "2  database  DPD2-qP1OmP9RAc7SUFsRQ           318  ...  False  False  False   \n",
       "3  database  DPD2-qP1OmP9RAc7SUFsRQ           319  ...  False  False  False   \n",
       "4  database  DPD2-qP1OmP9RAc7SUFsRQ           320  ...  False  False  False   \n",
       "\n",
       "    all        easting      northing  unique_cluster  control_panel  night  \\\n",
       "0  True  386202.043829  5.813338e+06               0          False  False   \n",
       "1  True  386207.713584  5.813347e+06               0          False  False   \n",
       "2  True  386213.756137  5.813355e+06               0          False  False   \n",
       "3  True  386219.044968  5.813363e+06               0          False  False   \n",
       "4  True  386224.150771  5.813372e+06               0          False  False   \n",
       "\n",
       "   view_direction  \n",
       "0         Forward  \n",
       "1         Forward  \n",
       "2         Forward  \n",
       "3         Forward  \n",
       "4         Forward  \n",
       "\n",
       "[5 rows x 23 columns]"
      ]
     },
     "execution_count": 194,
     "metadata": {},
     "output_type": "execute_result"
    }
   ],
   "source": [
    "metadata.head()"
   ]
  },
  {
   "cell_type": "code",
   "execution_count": 195,
   "metadata": {},
   "outputs": [
    {
     "name": "stdout",
     "output_type": "stream",
     "text": [
      "<class 'pandas.core.frame.DataFrame'>\n",
      "Int64Index: 357785 entries, 0 to 357784\n",
      "Data columns (total 23 columns):\n",
      "key               357785 non-null object\n",
      "lon               357785 non-null float64\n",
      "lat               357785 non-null float64\n",
      "ca                357785 non-null float64\n",
      "captured_at       357785 non-null object\n",
      "pano              357785 non-null bool\n",
      "city              357785 non-null object\n",
      "db                357785 non-null object\n",
      "sequence_key      357785 non-null object\n",
      "frame_number      357785 non-null int64\n",
      "w2s               357785 non-null bool\n",
      "s2w               357785 non-null bool\n",
      "d2n               357785 non-null bool\n",
      "n2d               357785 non-null bool\n",
      "o2n               357785 non-null bool\n",
      "n2o               357785 non-null bool\n",
      "all               357785 non-null bool\n",
      "easting           357785 non-null float64\n",
      "northing          357785 non-null float64\n",
      "unique_cluster    357785 non-null int64\n",
      "control_panel     357785 non-null bool\n",
      "night             357785 non-null bool\n",
      "view_direction    357785 non-null object\n",
      "dtypes: bool(10), float64(5), int64(2), object(6)\n",
      "memory usage: 41.6+ MB\n"
     ]
    }
   ],
   "source": [
    "metadata.info()"
   ]
  },
  {
   "cell_type": "code",
   "execution_count": 196,
   "metadata": {},
   "outputs": [
    {
     "data": {
      "text/html": [
       "<div>\n",
       "<style scoped>\n",
       "    .dataframe tbody tr th:only-of-type {\n",
       "        vertical-align: middle;\n",
       "    }\n",
       "\n",
       "    .dataframe tbody tr th {\n",
       "        vertical-align: top;\n",
       "    }\n",
       "\n",
       "    .dataframe thead th {\n",
       "        text-align: right;\n",
       "    }\n",
       "</style>\n",
       "<table border=\"1\" class=\"dataframe\">\n",
       "  <thead>\n",
       "    <tr style=\"text-align: right;\">\n",
       "      <th></th>\n",
       "      <th>lon</th>\n",
       "      <th>lat</th>\n",
       "      <th>ca</th>\n",
       "      <th>frame_number</th>\n",
       "      <th>easting</th>\n",
       "      <th>northing</th>\n",
       "      <th>unique_cluster</th>\n",
       "    </tr>\n",
       "  </thead>\n",
       "  <tbody>\n",
       "    <tr>\n",
       "      <td>count</td>\n",
       "      <td>357785.000000</td>\n",
       "      <td>357785.000000</td>\n",
       "      <td>357785.000000</td>\n",
       "      <td>357785.000000</td>\n",
       "      <td>357785.000000</td>\n",
       "      <td>3.577850e+05</td>\n",
       "      <td>357785.000000</td>\n",
       "    </tr>\n",
       "    <tr>\n",
       "      <td>mean</td>\n",
       "      <td>52.967356</td>\n",
       "      <td>41.614368</td>\n",
       "      <td>178.596299</td>\n",
       "      <td>162.457336</td>\n",
       "      <td>489575.543066</td>\n",
       "      <td>4.611111e+06</td>\n",
       "      <td>1060.607225</td>\n",
       "    </tr>\n",
       "    <tr>\n",
       "      <td>std</td>\n",
       "      <td>33.939458</td>\n",
       "      <td>19.180496</td>\n",
       "      <td>101.817749</td>\n",
       "      <td>175.516689</td>\n",
       "      <td>123854.616807</td>\n",
       "      <td>2.127360e+06</td>\n",
       "      <td>822.968738</td>\n",
       "    </tr>\n",
       "    <tr>\n",
       "      <td>min</td>\n",
       "      <td>13.277728</td>\n",
       "      <td>13.555386</td>\n",
       "      <td>0.000000</td>\n",
       "      <td>0.000000</td>\n",
       "      <td>382989.124462</td>\n",
       "      <td>1.499078e+06</td>\n",
       "      <td>0.000000</td>\n",
       "    </tr>\n",
       "    <tr>\n",
       "      <td>25%</td>\n",
       "      <td>37.466439</td>\n",
       "      <td>13.822536</td>\n",
       "      <td>91.800314</td>\n",
       "      <td>48.000000</td>\n",
       "      <td>403712.660086</td>\n",
       "      <td>1.528574e+06</td>\n",
       "      <td>409.000000</td>\n",
       "    </tr>\n",
       "    <tr>\n",
       "      <td>50%</td>\n",
       "      <td>37.604787</td>\n",
       "      <td>52.574486</td>\n",
       "      <td>184.391265</td>\n",
       "      <td>109.000000</td>\n",
       "      <td>412208.663823</td>\n",
       "      <td>5.826125e+06</td>\n",
       "      <td>863.000000</td>\n",
       "    </tr>\n",
       "    <tr>\n",
       "      <td>75%</td>\n",
       "      <td>100.451221</td>\n",
       "      <td>55.697825</td>\n",
       "      <td>270.757065</td>\n",
       "      <td>224.000000</td>\n",
       "      <td>656837.112613</td>\n",
       "      <td>6.173386e+06</td>\n",
       "      <td>1569.000000</td>\n",
       "    </tr>\n",
       "    <tr>\n",
       "      <td>max</td>\n",
       "      <td>100.789569</td>\n",
       "      <td>55.867390</td>\n",
       "      <td>359.970147</td>\n",
       "      <td>2931.000000</td>\n",
       "      <td>693596.444942</td>\n",
       "      <td>6.192393e+06</td>\n",
       "      <td>3104.000000</td>\n",
       "    </tr>\n",
       "  </tbody>\n",
       "</table>\n",
       "</div>"
      ],
      "text/plain": [
       "                 lon            lat             ca   frame_number  \\\n",
       "count  357785.000000  357785.000000  357785.000000  357785.000000   \n",
       "mean       52.967356      41.614368     178.596299     162.457336   \n",
       "std        33.939458      19.180496     101.817749     175.516689   \n",
       "min        13.277728      13.555386       0.000000       0.000000   \n",
       "25%        37.466439      13.822536      91.800314      48.000000   \n",
       "50%        37.604787      52.574486     184.391265     109.000000   \n",
       "75%       100.451221      55.697825     270.757065     224.000000   \n",
       "max       100.789569      55.867390     359.970147    2931.000000   \n",
       "\n",
       "             easting      northing  unique_cluster  \n",
       "count  357785.000000  3.577850e+05   357785.000000  \n",
       "mean   489575.543066  4.611111e+06     1060.607225  \n",
       "std    123854.616807  2.127360e+06      822.968738  \n",
       "min    382989.124462  1.499078e+06        0.000000  \n",
       "25%    403712.660086  1.528574e+06      409.000000  \n",
       "50%    412208.663823  5.826125e+06      863.000000  \n",
       "75%    656837.112613  6.173386e+06     1569.000000  \n",
       "max    693596.444942  6.192393e+06     3104.000000  "
      ]
     },
     "execution_count": 196,
     "metadata": {},
     "output_type": "execute_result"
    }
   ],
   "source": [
    "metadata.describe()"
   ]
  },
  {
   "cell_type": "code",
   "execution_count": 197,
   "metadata": {},
   "outputs": [
    {
     "data": {
      "image/png": "[encoded data removed]",
      "text/plain": [
       "<Figure size 432x288 with 1 Axes>"
      ]
     },
     "metadata": {},
     "output_type": "display_data"
    },
    {
     "data": {
      "text/plain": [
       "<Figure size 1080x1080 with 0 Axes>"
      ]
     },
     "metadata": {},
     "output_type": "display_data"
    }
   ],
   "source": [
    "plt.scatter(metadata.easting, metadata.northing)\n",
    "plt.figure(figsize=(15,15))\n",
    "plt.show()"
   ]
  },
  {
   "cell_type": "code",
   "execution_count": 204,
   "metadata": {},
   "outputs": [],
   "source": [
    "cat_feat =  ['control_panel', 'night', 'view_direction', 'city', 'db']"
   ]
  },
  {
   "cell_type": "code",
   "execution_count": 205,
   "metadata": {},
   "outputs": [
    {
     "data": {
      "image/png": "[encoded data removed]",
      "text/plain": [
       "<Figure size 432x288 with 1 Axes>"
      ]
     },
     "metadata": {},
     "output_type": "display_data"
    },
    {
     "data": {
      "image/png": "[encoded data removed]",
      "text/plain": [
       "<Figure size 432x288 with 1 Axes>"
      ]
     },
     "metadata": {},
     "output_type": "display_data"
    },
    {
     "data": {
      "image/png": "[encoded data removed]",
      "text/plain": [
       "<Figure size 432x288 with 1 Axes>"
      ]
     },
     "metadata": {},
     "output_type": "display_data"
    },
    {
     "data": {
      "image/png": "[encoded data removed]",
      "text/plain": [
       "<Figure size 432x288 with 1 Axes>"
      ]
     },
     "metadata": {},
     "output_type": "display_data"
    },
    {
     "data": {
      "image/png": "[encoded data removed]",
      "text/plain": [
       "<Figure size 432x288 with 1 Axes>"
      ]
     },
     "metadata": {},
     "output_type": "display_data"
    }
   ],
   "source": [
    "for cat in cat_feat:\n",
    "    sns.countplot(x=cat, data=metadata)\n",
    "    plt.show()"
   ]
  },
  {
   "cell_type": "markdown",
   "metadata": {},
   "source": [
    "# ideas"
   ]
  },
  {
   "cell_type": "markdown",
   "metadata": {},
   "source": [
    "Image format specific\n",
    "\n",
    "- (Minimum / Median / Mean / Maximum) (width / height / area)\n",
    "- Image formats\n",
    "- Timestamps\n",
    "- Exiff meta data"
   ]
  },
  {
   "cell_type": "markdown",
   "metadata": {},
   "source": [
    "Image/ML specific\n",
    "\n",
    "Things you can do with images:\n",
    "\n",
    "- Compute the mean image\n",
    "- Mean image by class\n",
    "- Eigenfaces (or rather \"Eigenimages\")\n",
    "- Fisher-Faces"
   ]
  }
 ],
 "metadata": {
  "kernelspec": {
   "display_name": "Python [conda env:tf] *",
   "language": "python",
   "name": "conda-env-tf-py"
  },
  "language_info": {
   "codemirror_mode": {
    "name": "ipython",
    "version": 3
   },
   "file_extension": ".py",
   "mimetype": "text/x-python",
   "name": "python",
   "nbconvert_exporter": "python",
   "pygments_lexer": "ipython3",
   "version": "3.6.10"
  }
 },
 "nbformat": 4,
 "nbformat_minor": 4
}
